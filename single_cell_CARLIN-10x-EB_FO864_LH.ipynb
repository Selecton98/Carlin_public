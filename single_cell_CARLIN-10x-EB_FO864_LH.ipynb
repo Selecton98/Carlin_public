{
 "cells": [
  {
   "cell_type": "code",
   "execution_count": 1,
   "id": "dcfd353b-e4fa-44a1-b7dd-398bfa46a9ce",
   "metadata": {
    "tags": [
     "parameters"
    ]
   },
   "outputs": [],
   "source": [
    "sample = \"EB_FO864_LH\"\n",
    "#template = \"cCARLIN\"\n",
    "data_path = \"/home/zhoujiaqi/data/zhoujiaqi/CARLIN/Processed/amplicon/fastq/\"\n",
    "output_dir = \"/home/zhoujiaqi/data/zhoujiaqi/CARLIN/code/output/\"\n",
    "ref_dir ='/home/zhoujiaqi/data/zhoujiaqi/CARLIN/Analysis/EB/FO864/SC/LH/Transcriptome/filtered_barcodes_umi_mt.txt'\n",
    "#CARLIN_read_cutoff=3 # used to compare with CARLIN pipeline\n",
    "cfg=\"sc10xV3\" # ['sc10xV3',  'scCamellia']\n",
    "coarse_grained_readcutoff_floor=5 # the lower bound of the later read count filtering, after denoising, and re-group reads. \n",
    "distance_relative_threshold=0.03 # 5% error rate, will be multipled with the sequence length\n",
    "read_ratio_threshold=0.6\n",
    "#seq_3prime_upper_N=15\n",
    "#seq_5prime_upper_N=None"
   ]
  },
  {
   "cell_type": "code",
   "execution_count": 2,
   "id": "82c76a21-d6c0-4437-a4e9-b26252012265",
   "metadata": {},
   "outputs": [
    {
     "name": "stderr",
     "output_type": "stream",
     "text": [
      "/home/zhoujiaqi/miniconda2/envs/darlin/lib/python3.11/site-packages/Bio/pairwise2.py:278: BiopythonDeprecationWarning: Bio.pairwise2 has been deprecated, and we intend to remove it in a future release of Biopython. As an alternative, please consider using Bio.Align.PairwiseAligner as a replacement, and contact the Biopython developers if you still need the Bio.pairwise2 module.\n",
      "  warnings.warn(\n"
     ]
    }
   ],
   "source": [
    "import pandas as pd\n",
    "import seaborn as sns\n",
    "import numpy as np\n",
    "import matplotlib.pyplot as plt\n",
    "import os\n",
    "import yaml\n",
    "from mosaiclineage import DARLIN as car\n",
    "from mosaiclineage import larry"
   ]
  },
  {
   "cell_type": "code",
   "execution_count": 3,
   "id": "39c9f095-9991-406c-ac35-23895ec855b6",
   "metadata": {},
   "outputs": [],
   "source": [
    "import importlib\n",
    "importlib.reload(car)\n",
    "importlib.reload(larry)\n",
    "#%config InlineBackend.figure_format = 'svg' #'retina'         # or 'svg'\n",
    "pd.set_option('display.max_columns', None)\n",
    "pd.set_option('display.max_rows',100)\n",
    "%matplotlib inline"
   ]
  },
  {
   "cell_type": "markdown",
   "id": "b35c1f4e-d259-49f1-ba4e-84494c8cd794",
   "metadata": {
    "papermill": {
     "duration": 0.092002,
     "end_time": "2022-08-03T14:47:41.130058",
     "exception": false,
     "start_time": "2022-08-03T14:47:41.038056",
     "status": "completed"
    },
    "tags": []
   },
   "source": [
    "# Single-cell CARLIN pipeline for 10x data"
   ]
  },
  {
   "cell_type": "code",
   "execution_count": 4,
   "id": "eaa0aa9b-134e-4e97-867a-a599b2cbcdc9",
   "metadata": {
    "papermill": {
     "duration": 6.550087,
     "end_time": "2022-08-03T14:47:47.965337",
     "exception": false,
     "start_time": "2022-08-03T14:47:41.415250",
     "status": "completed"
    },
    "tags": []
   },
   "outputs": [],
   "source": [
    "ref_name=cfg\n",
    "df_ref_BC=pd.read_csv(f'{ref_dir}',\n",
    "                      sep='\\t',header=None,names=['CB'])"
   ]
  },
  {
   "cell_type": "code",
   "execution_count": 5,
   "id": "d6dd01f3-0656-4c8a-81a9-f1be433486d1",
   "metadata": {},
   "outputs": [
    {
     "data": {
      "text/html": [
       "<div>\n",
       "<style scoped>\n",
       "    .dataframe tbody tr th:only-of-type {\n",
       "        vertical-align: middle;\n",
       "    }\n",
       "\n",
       "    .dataframe tbody tr th {\n",
       "        vertical-align: top;\n",
       "    }\n",
       "\n",
       "    .dataframe thead th {\n",
       "        text-align: right;\n",
       "    }\n",
       "</style>\n",
       "<table border=\"1\" class=\"dataframe\">\n",
       "  <thead>\n",
       "    <tr style=\"text-align: right;\">\n",
       "      <th></th>\n",
       "      <th>CB</th>\n",
       "    </tr>\n",
       "  </thead>\n",
       "  <tbody>\n",
       "    <tr>\n",
       "      <th>0</th>\n",
       "      <td>AAACCTGAGGCTAGGT</td>\n",
       "    </tr>\n",
       "    <tr>\n",
       "      <th>1</th>\n",
       "      <td>AAACCTGAGGTGATAT</td>\n",
       "    </tr>\n",
       "    <tr>\n",
       "      <th>2</th>\n",
       "      <td>AAACCTGAGTACGACG</td>\n",
       "    </tr>\n",
       "    <tr>\n",
       "      <th>3</th>\n",
       "      <td>AAACCTGAGTGGGTTG</td>\n",
       "    </tr>\n",
       "    <tr>\n",
       "      <th>4</th>\n",
       "      <td>AAACCTGCAAACTGCT</td>\n",
       "    </tr>\n",
       "    <tr>\n",
       "      <th>...</th>\n",
       "      <td>...</td>\n",
       "    </tr>\n",
       "    <tr>\n",
       "      <th>3750</th>\n",
       "      <td>TTTGTCAGTTCCCGAG</td>\n",
       "    </tr>\n",
       "    <tr>\n",
       "      <th>3751</th>\n",
       "      <td>TTTGTCATCAGGCCCA</td>\n",
       "    </tr>\n",
       "    <tr>\n",
       "      <th>3752</th>\n",
       "      <td>TTTGTCATCGGCTACG</td>\n",
       "    </tr>\n",
       "    <tr>\n",
       "      <th>3753</th>\n",
       "      <td>TTTGTCATCTTCTGGC</td>\n",
       "    </tr>\n",
       "    <tr>\n",
       "      <th>3754</th>\n",
       "      <td>TTTGTCATCTTTCCTC</td>\n",
       "    </tr>\n",
       "  </tbody>\n",
       "</table>\n",
       "<p>3755 rows × 1 columns</p>\n",
       "</div>"
      ],
      "text/plain": [
       "                    CB\n",
       "0     AAACCTGAGGCTAGGT\n",
       "1     AAACCTGAGGTGATAT\n",
       "2     AAACCTGAGTACGACG\n",
       "3     AAACCTGAGTGGGTTG\n",
       "4     AAACCTGCAAACTGCT\n",
       "...                ...\n",
       "3750  TTTGTCAGTTCCCGAG\n",
       "3751  TTTGTCATCAGGCCCA\n",
       "3752  TTTGTCATCGGCTACG\n",
       "3753  TTTGTCATCTTCTGGC\n",
       "3754  TTTGTCATCTTTCCTC\n",
       "\n",
       "[3755 rows x 1 columns]"
      ]
     },
     "execution_count": 5,
     "metadata": {},
     "output_type": "execute_result"
    }
   ],
   "source": [
    "df_ref_BC"
   ]
  },
  {
   "cell_type": "code",
   "execution_count": 6,
   "id": "bd018fd7-873b-49b4-ab04-105cc4feb7f7",
   "metadata": {
    "papermill": {
     "duration": 24.626381,
     "end_time": "2022-08-03T14:48:12.735915",
     "exception": false,
     "start_time": "2022-08-03T14:47:48.109534",
     "status": "completed"
    },
    "tags": []
   },
   "outputs": [
    {
     "name": "stdout",
     "output_type": "stream",
     "text": [
      "CPU times: user 16.8 s, sys: 423 ms, total: 17.2 s\n",
      "Wall time: 17.5 s\n"
     ]
    }
   ],
   "source": [
    "%%time\n",
    "## load sequences\n",
    "df_raw_reads=car.CARLIN_raw_reads(data_path+sample,sample,protocol=cfg)"
   ]
  },
  {
   "cell_type": "code",
   "execution_count": 7,
   "id": "589edcbb-11be-4feb-9fee-1fd70c050223",
   "metadata": {},
   "outputs": [
    {
     "data": {
      "text/html": [
       "<div>\n",
       "<style scoped>\n",
       "    .dataframe tbody tr th:only-of-type {\n",
       "        vertical-align: middle;\n",
       "    }\n",
       "\n",
       "    .dataframe tbody tr th {\n",
       "        vertical-align: top;\n",
       "    }\n",
       "\n",
       "    .dataframe thead th {\n",
       "        text-align: right;\n",
       "    }\n",
       "</style>\n",
       "<table border=\"1\" class=\"dataframe\">\n",
       "  <thead>\n",
       "    <tr style=\"text-align: right;\">\n",
       "      <th></th>\n",
       "      <th>cell_bc</th>\n",
       "      <th>cell_bc_quality_mean</th>\n",
       "      <th>cell_bc_quality_min</th>\n",
       "      <th>library</th>\n",
       "      <th>cell_id</th>\n",
       "      <th>umi</th>\n",
       "      <th>umi_quality_mean</th>\n",
       "      <th>umi_quality_min</th>\n",
       "      <th>umi_id</th>\n",
       "      <th>clone_id</th>\n",
       "      <th>clone_id_quality_mean</th>\n",
       "      <th>clone_id_quality_min</th>\n",
       "    </tr>\n",
       "  </thead>\n",
       "  <tbody>\n",
       "    <tr>\n",
       "      <th>0</th>\n",
       "      <td>TCGCTGTACAAGTAAG</td>\n",
       "      <td>25.8750</td>\n",
       "      <td>16</td>\n",
       "      <td>EB_FO864_LH</td>\n",
       "      <td>EB_FO864_LH_TCGCTGTACAAGTAAG</td>\n",
       "      <td>CGGCCGCCGGAC</td>\n",
       "      <td>27.333333</td>\n",
       "      <td>14</td>\n",
       "      <td>TCGCTGTACAAGTAAG_CGGCCGCCGGAC</td>\n",
       "      <td>TCAGCAAGTTATCCGACTTTGAAAGGTT</td>\n",
       "      <td>31.107143</td>\n",
       "      <td>15</td>\n",
       "    </tr>\n",
       "    <tr>\n",
       "      <th>1</th>\n",
       "      <td>TAGCTGTACAAGTAAG</td>\n",
       "      <td>31.3750</td>\n",
       "      <td>16</td>\n",
       "      <td>EB_FO864_LH</td>\n",
       "      <td>EB_FO864_LH_TAGCTGTACAAGTAAG</td>\n",
       "      <td>CGGCCGCCGGAC</td>\n",
       "      <td>26.416667</td>\n",
       "      <td>14</td>\n",
       "      <td>TAGCTGTACAAGTAAG_CGGCCGCCGGAC</td>\n",
       "      <td>CCTATTAGTACTCGCGCTTGAGCCTTTT</td>\n",
       "      <td>35.321429</td>\n",
       "      <td>16</td>\n",
       "    </tr>\n",
       "    <tr>\n",
       "      <th>2</th>\n",
       "      <td>GAGCTGTACAAGTAAG</td>\n",
       "      <td>31.6875</td>\n",
       "      <td>16</td>\n",
       "      <td>EB_FO864_LH</td>\n",
       "      <td>EB_FO864_LH_GAGCTGTACAAGTAAG</td>\n",
       "      <td>CGGCCGCCGGAC</td>\n",
       "      <td>33.666667</td>\n",
       "      <td>16</td>\n",
       "      <td>GAGCTGTACAAGTAAG_CGGCCGCCGGAC</td>\n",
       "      <td>CGATTGAAGTACGTTCGGTTAAATTTTT</td>\n",
       "      <td>36.107143</td>\n",
       "      <td>29</td>\n",
       "    </tr>\n",
       "    <tr>\n",
       "      <th>3</th>\n",
       "      <td>GCGCTGTACAAGTAAG</td>\n",
       "      <td>32.6250</td>\n",
       "      <td>16</td>\n",
       "      <td>EB_FO864_LH</td>\n",
       "      <td>EB_FO864_LH_GCGCTGTACAAGTAAG</td>\n",
       "      <td>CGGCCGCCGGAC</td>\n",
       "      <td>35.333333</td>\n",
       "      <td>16</td>\n",
       "      <td>GCGCTGTACAAGTAAG_CGGCCGCCGGAC</td>\n",
       "      <td>TCAGCTCGTTTCGCTCATACATCGTTTT</td>\n",
       "      <td>35.964286</td>\n",
       "      <td>29</td>\n",
       "    </tr>\n",
       "    <tr>\n",
       "      <th>4</th>\n",
       "      <td>TAGCTGTACAAGTAAG</td>\n",
       "      <td>29.2500</td>\n",
       "      <td>16</td>\n",
       "      <td>EB_FO864_LH</td>\n",
       "      <td>EB_FO864_LH_TAGCTGTACAAGTAAG</td>\n",
       "      <td>CGGCCGCCGGAC</td>\n",
       "      <td>29.416667</td>\n",
       "      <td>14</td>\n",
       "      <td>TAGCTGTACAAGTAAG_CGGCCGCCGGAC</td>\n",
       "      <td>CCTACACAGCGTAGTGATCTGGCTTCTT</td>\n",
       "      <td>35.928571</td>\n",
       "      <td>18</td>\n",
       "    </tr>\n",
       "    <tr>\n",
       "      <th>...</th>\n",
       "      <td>...</td>\n",
       "      <td>...</td>\n",
       "      <td>...</td>\n",
       "      <td>...</td>\n",
       "      <td>...</td>\n",
       "      <td>...</td>\n",
       "      <td>...</td>\n",
       "      <td>...</td>\n",
       "      <td>...</td>\n",
       "      <td>...</td>\n",
       "      <td>...</td>\n",
       "      <td>...</td>\n",
       "    </tr>\n",
       "    <tr>\n",
       "      <th>221439</th>\n",
       "      <td>GAGCTGTACAAGTAGC</td>\n",
       "      <td>28.0000</td>\n",
       "      <td>16</td>\n",
       "      <td>EB_FO864_LH</td>\n",
       "      <td>EB_FO864_LH_GAGCTGTACAAGTAGC</td>\n",
       "      <td>CGCCCCCAGACC</td>\n",
       "      <td>19.500000</td>\n",
       "      <td>15</td>\n",
       "      <td>GAGCTGTACAAGTAGC_CGCCCCCAGACC</td>\n",
       "      <td>GGACATTCACAGTCGCACAACGGCTTTT</td>\n",
       "      <td>31.464286</td>\n",
       "      <td>15</td>\n",
       "    </tr>\n",
       "    <tr>\n",
       "      <th>221440</th>\n",
       "      <td>GAGCTGTACAAGTAAG</td>\n",
       "      <td>31.6250</td>\n",
       "      <td>16</td>\n",
       "      <td>EB_FO864_LH</td>\n",
       "      <td>EB_FO864_LH_GAGCTGTACAAGTAAG</td>\n",
       "      <td>CGGCCGCCGGAC</td>\n",
       "      <td>28.916667</td>\n",
       "      <td>14</td>\n",
       "      <td>GAGCTGTACAAGTAAG_CGGCCGCCGGAC</td>\n",
       "      <td>AAAGATGAGGACATTAATAGTTTTGCTT</td>\n",
       "      <td>33.464286</td>\n",
       "      <td>16</td>\n",
       "    </tr>\n",
       "    <tr>\n",
       "      <th>221441</th>\n",
       "      <td>GAGCTGTACAAGTAAG</td>\n",
       "      <td>26.1875</td>\n",
       "      <td>16</td>\n",
       "      <td>EB_FO864_LH</td>\n",
       "      <td>EB_FO864_LH_GAGCTGTACAAGTAAG</td>\n",
       "      <td>CGGCCGCCGGAC</td>\n",
       "      <td>29.333333</td>\n",
       "      <td>14</td>\n",
       "      <td>GAGCTGTACAAGTAAG_CGGCCGCCGGAC</td>\n",
       "      <td>AAGGAGCTCTGAGGGAAGGTAACTCTTT</td>\n",
       "      <td>29.285714</td>\n",
       "      <td>16</td>\n",
       "    </tr>\n",
       "    <tr>\n",
       "      <th>221442</th>\n",
       "      <td>GAGCTGTACAAGTAAG</td>\n",
       "      <td>33.6250</td>\n",
       "      <td>16</td>\n",
       "      <td>EB_FO864_LH</td>\n",
       "      <td>EB_FO864_LH_GAGCTGTACAAGTAAG</td>\n",
       "      <td>CGGCCGCCGGAC</td>\n",
       "      <td>30.000000</td>\n",
       "      <td>14</td>\n",
       "      <td>GAGCTGTACAAGTAAG_CGGCCGCCGGAC</td>\n",
       "      <td>GGATGTTCATTGGCGCTTTGTAGCGGTT</td>\n",
       "      <td>30.535714</td>\n",
       "      <td>15</td>\n",
       "    </tr>\n",
       "    <tr>\n",
       "      <th>221443</th>\n",
       "      <td>GAGCTGTACAAGTAAG</td>\n",
       "      <td>28.2500</td>\n",
       "      <td>16</td>\n",
       "      <td>EB_FO864_LH</td>\n",
       "      <td>EB_FO864_LH_GAGCTGTACAAGTAAG</td>\n",
       "      <td>CGGCCGCCCGAC</td>\n",
       "      <td>25.583333</td>\n",
       "      <td>14</td>\n",
       "      <td>GAGCTGTACAAGTAAG_CGGCCGCCCGAC</td>\n",
       "      <td>AGTCTTTGTTATGTGCCGCCATTGTCTT</td>\n",
       "      <td>28.428571</td>\n",
       "      <td>15</td>\n",
       "    </tr>\n",
       "  </tbody>\n",
       "</table>\n",
       "<p>221444 rows × 12 columns</p>\n",
       "</div>"
      ],
      "text/plain": [
       "                 cell_bc  cell_bc_quality_mean  cell_bc_quality_min  \\\n",
       "0       TCGCTGTACAAGTAAG               25.8750                   16   \n",
       "1       TAGCTGTACAAGTAAG               31.3750                   16   \n",
       "2       GAGCTGTACAAGTAAG               31.6875                   16   \n",
       "3       GCGCTGTACAAGTAAG               32.6250                   16   \n",
       "4       TAGCTGTACAAGTAAG               29.2500                   16   \n",
       "...                  ...                   ...                  ...   \n",
       "221439  GAGCTGTACAAGTAGC               28.0000                   16   \n",
       "221440  GAGCTGTACAAGTAAG               31.6250                   16   \n",
       "221441  GAGCTGTACAAGTAAG               26.1875                   16   \n",
       "221442  GAGCTGTACAAGTAAG               33.6250                   16   \n",
       "221443  GAGCTGTACAAGTAAG               28.2500                   16   \n",
       "\n",
       "            library                       cell_id           umi  \\\n",
       "0       EB_FO864_LH  EB_FO864_LH_TCGCTGTACAAGTAAG  CGGCCGCCGGAC   \n",
       "1       EB_FO864_LH  EB_FO864_LH_TAGCTGTACAAGTAAG  CGGCCGCCGGAC   \n",
       "2       EB_FO864_LH  EB_FO864_LH_GAGCTGTACAAGTAAG  CGGCCGCCGGAC   \n",
       "3       EB_FO864_LH  EB_FO864_LH_GCGCTGTACAAGTAAG  CGGCCGCCGGAC   \n",
       "4       EB_FO864_LH  EB_FO864_LH_TAGCTGTACAAGTAAG  CGGCCGCCGGAC   \n",
       "...             ...                           ...           ...   \n",
       "221439  EB_FO864_LH  EB_FO864_LH_GAGCTGTACAAGTAGC  CGCCCCCAGACC   \n",
       "221440  EB_FO864_LH  EB_FO864_LH_GAGCTGTACAAGTAAG  CGGCCGCCGGAC   \n",
       "221441  EB_FO864_LH  EB_FO864_LH_GAGCTGTACAAGTAAG  CGGCCGCCGGAC   \n",
       "221442  EB_FO864_LH  EB_FO864_LH_GAGCTGTACAAGTAAG  CGGCCGCCGGAC   \n",
       "221443  EB_FO864_LH  EB_FO864_LH_GAGCTGTACAAGTAAG  CGGCCGCCCGAC   \n",
       "\n",
       "        umi_quality_mean  umi_quality_min                         umi_id  \\\n",
       "0              27.333333               14  TCGCTGTACAAGTAAG_CGGCCGCCGGAC   \n",
       "1              26.416667               14  TAGCTGTACAAGTAAG_CGGCCGCCGGAC   \n",
       "2              33.666667               16  GAGCTGTACAAGTAAG_CGGCCGCCGGAC   \n",
       "3              35.333333               16  GCGCTGTACAAGTAAG_CGGCCGCCGGAC   \n",
       "4              29.416667               14  TAGCTGTACAAGTAAG_CGGCCGCCGGAC   \n",
       "...                  ...              ...                            ...   \n",
       "221439         19.500000               15  GAGCTGTACAAGTAGC_CGCCCCCAGACC   \n",
       "221440         28.916667               14  GAGCTGTACAAGTAAG_CGGCCGCCGGAC   \n",
       "221441         29.333333               14  GAGCTGTACAAGTAAG_CGGCCGCCGGAC   \n",
       "221442         30.000000               14  GAGCTGTACAAGTAAG_CGGCCGCCGGAC   \n",
       "221443         25.583333               14  GAGCTGTACAAGTAAG_CGGCCGCCCGAC   \n",
       "\n",
       "                            clone_id  clone_id_quality_mean  \\\n",
       "0       TCAGCAAGTTATCCGACTTTGAAAGGTT              31.107143   \n",
       "1       CCTATTAGTACTCGCGCTTGAGCCTTTT              35.321429   \n",
       "2       CGATTGAAGTACGTTCGGTTAAATTTTT              36.107143   \n",
       "3       TCAGCTCGTTTCGCTCATACATCGTTTT              35.964286   \n",
       "4       CCTACACAGCGTAGTGATCTGGCTTCTT              35.928571   \n",
       "...                              ...                    ...   \n",
       "221439  GGACATTCACAGTCGCACAACGGCTTTT              31.464286   \n",
       "221440  AAAGATGAGGACATTAATAGTTTTGCTT              33.464286   \n",
       "221441  AAGGAGCTCTGAGGGAAGGTAACTCTTT              29.285714   \n",
       "221442  GGATGTTCATTGGCGCTTTGTAGCGGTT              30.535714   \n",
       "221443  AGTCTTTGTTATGTGCCGCCATTGTCTT              28.428571   \n",
       "\n",
       "        clone_id_quality_min  \n",
       "0                         15  \n",
       "1                         16  \n",
       "2                         29  \n",
       "3                         29  \n",
       "4                         18  \n",
       "...                      ...  \n",
       "221439                    15  \n",
       "221440                    16  \n",
       "221441                    16  \n",
       "221442                    15  \n",
       "221443                    15  \n",
       "\n",
       "[221444 rows x 12 columns]"
      ]
     },
     "execution_count": 7,
     "metadata": {},
     "output_type": "execute_result"
    }
   ],
   "source": [
    "df_raw_reads"
   ]
  },
  {
   "cell_type": "code",
   "execution_count": 8,
   "id": "33802094-b7c8-40fb-8185-be8755e4765e",
   "metadata": {
    "papermill": {
     "duration": 0.278804,
     "end_time": "2022-08-03T14:48:13.110566",
     "exception": false,
     "start_time": "2022-08-03T14:48:12.831762",
     "status": "completed"
    },
    "tags": []
   },
   "outputs": [
    {
     "name": "stdout",
     "output_type": "stream",
     "text": [
      "N fraction: 0.0\n"
     ]
    }
   ],
   "source": [
    "df_N=df_raw_reads[df_raw_reads['cell_bc'].apply(lambda x: 'N' in x)]\n",
    "print('N fraction:',len(df_N)/len(df_raw_reads))"
   ]
  },
  {
   "cell_type": "code",
   "execution_count": 9,
   "id": "f7592ba4-c0d0-42de-a5af-66fa21bb4e83",
   "metadata": {
    "papermill": {
     "duration": 8.41057,
     "end_time": "2022-08-03T14:48:30.749333",
     "exception": false,
     "start_time": "2022-08-03T14:48:22.338763",
     "status": "completed"
    },
    "tags": []
   },
   "outputs": [
    {
     "name": "stdout",
     "output_type": "stream",
     "text": [
      "Fastq with valid barcodes: 0\n",
      "CPU times: user 38.6 ms, sys: 7.02 ms, total: 45.6 ms\n",
      "Wall time: 43.5 ms\n"
     ]
    }
   ],
   "source": [
    "%%time\n",
    "df_filter_reads=car.CARLIN_preprocessing(df_raw_reads,ref_cell_barcodes=df_ref_BC['CB'])"
   ]
  },
  {
   "cell_type": "code",
   "execution_count": 10,
   "id": "7889c947-c994-4518-98ff-8f4070f9260a",
   "metadata": {},
   "outputs": [
    {
     "data": {
      "text/html": [
       "<div>\n",
       "<style scoped>\n",
       "    .dataframe tbody tr th:only-of-type {\n",
       "        vertical-align: middle;\n",
       "    }\n",
       "\n",
       "    .dataframe tbody tr th {\n",
       "        vertical-align: top;\n",
       "    }\n",
       "\n",
       "    .dataframe thead th {\n",
       "        text-align: right;\n",
       "    }\n",
       "</style>\n",
       "<table border=\"1\" class=\"dataframe\">\n",
       "  <thead>\n",
       "    <tr style=\"text-align: right;\">\n",
       "      <th></th>\n",
       "      <th>cell_bc</th>\n",
       "      <th>library</th>\n",
       "      <th>cell_id</th>\n",
       "      <th>umi</th>\n",
       "      <th>umi_id</th>\n",
       "      <th>clone_id</th>\n",
       "      <th>read</th>\n",
       "    </tr>\n",
       "  </thead>\n",
       "  <tbody>\n",
       "  </tbody>\n",
       "</table>\n",
       "</div>"
      ],
      "text/plain": [
       "Empty DataFrame\n",
       "Columns: [cell_bc, library, cell_id, umi, umi_id, clone_id, read]\n",
       "Index: []"
      ]
     },
     "execution_count": 10,
     "metadata": {},
     "output_type": "execute_result"
    }
   ],
   "source": [
    "df_filter_reads"
   ]
  },
  {
   "cell_type": "markdown",
   "id": "4ad53387-4546-4beb-b154-c5a59dae5280",
   "metadata": {
    "papermill": {
     "duration": 0.304664,
     "end_time": "2022-08-09T16:56:36.298106",
     "exception": false,
     "start_time": "2022-08-09T16:56:35.993442",
     "status": "completed"
    },
    "tags": []
   },
   "source": [
    "## Check raw data qualities\n",
    "\n",
    "Check raw data to decide the read cutoff. If we see a linear slope between read number per cell and clone number per cell, this is a signature of sequencing-error induced clonal diversity"
   ]
  },
  {
   "cell_type": "code",
   "execution_count": 11,
   "id": "98d60b88-accb-47a2-8e62-c5c571d4e2c5",
   "metadata": {},
   "outputs": [
    {
     "name": "stdout",
     "output_type": "stream",
     "text": [
      "Identified 0 putative cell_id\n"
     ]
    },
    {
     "name": "stderr",
     "output_type": "stream",
     "text": [
      "/together_sdc/zhoujiaqi/CARLIN/code/MosaicLineage/mosaiclineage/larry.py:564: UserWarning: Data has no positive values, and therefore cannot be log-scaled.\n",
      "  plt.xscale(\"log\")\n",
      "/together_sdc/zhoujiaqi/CARLIN/code/MosaicLineage/mosaiclineage/larry.py:565: UserWarning: Data has no positive values, and therefore cannot be log-scaled.\n",
      "  plt.yscale(\"log\")\n"
     ]
    },
    {
     "data": {
      "image/png": "[encoded data removed]",
      "text/plain": [
       "<Figure size 600x525 with 1 Axes>"
      ]
     },
     "metadata": {},
     "output_type": "display_data"
    }
   ],
   "source": [
    "df_valid_cells=larry.extract_putative_valid_cell_id(df_filter_reads,signal_threshold=1.5,cell_key=\"cell_id\",)"
   ]
  },
  {
   "cell_type": "code",
   "execution_count": 12,
   "id": "9449a12e-b751-4ca4-b7ad-1bb922fa90db",
   "metadata": {},
   "outputs": [
    {
     "data": {
      "text/html": [
       "<div>\n",
       "<style scoped>\n",
       "    .dataframe tbody tr th:only-of-type {\n",
       "        vertical-align: middle;\n",
       "    }\n",
       "\n",
       "    .dataframe tbody tr th {\n",
       "        vertical-align: top;\n",
       "    }\n",
       "\n",
       "    .dataframe thead th {\n",
       "        text-align: right;\n",
       "    }\n",
       "</style>\n",
       "<table border=\"1\" class=\"dataframe\">\n",
       "  <thead>\n",
       "    <tr style=\"text-align: right;\">\n",
       "      <th></th>\n",
       "      <th>cell_id</th>\n",
       "      <th>cell_id_read_count</th>\n",
       "      <th>umi_count</th>\n",
       "      <th>valid</th>\n",
       "    </tr>\n",
       "  </thead>\n",
       "  <tbody>\n",
       "  </tbody>\n",
       "</table>\n",
       "</div>"
      ],
      "text/plain": [
       "Empty DataFrame\n",
       "Columns: [cell_id, cell_id_read_count, umi_count, valid]\n",
       "Index: []"
      ]
     },
     "execution_count": 12,
     "metadata": {},
     "output_type": "execute_result"
    }
   ],
   "source": [
    "df_valid_cells"
   ]
  },
  {
   "cell_type": "code",
   "execution_count": 13,
   "id": "d35f03ed-b982-4200-a9ce-1f79cd09525a",
   "metadata": {},
   "outputs": [],
   "source": [
    "df = pd.DataFrame(df_valid_cells)\n",
    "df.to_csv(output_dir+sample+'.csv', index=False)"
   ]
  },
  {
   "cell_type": "markdown",
   "id": "009b7b7a-cc45-4bc9-8ec5-f24309b50098",
   "metadata": {
    "papermill": {
     "duration": 0.240897,
     "end_time": "2022-08-09T16:56:43.314539",
     "exception": false,
     "start_time": "2022-08-09T16:56:43.073642",
     "status": "completed"
    },
    "tags": []
   },
   "source": [
    "We are interested to see at what read cutoff the corresponding cell number or clone number conform to our expectation. "
   ]
  },
  {
   "cell_type": "code",
   "execution_count": 14,
   "id": "7e7f9810-1101-4053-89d4-cc1e7affce6f",
   "metadata": {
    "papermill": {
     "duration": 1.74691,
     "end_time": "2022-08-09T16:56:45.332372",
     "exception": false,
     "start_time": "2022-08-09T16:56:43.585462",
     "status": "completed"
    },
    "tags": []
   },
   "outputs": [
    {
     "ename": "ValueError",
     "evalue": "cannot convert float NaN to integer",
     "output_type": "error",
     "traceback": [
      "\u001b[0;31m---------------------------------------------------------------------------\u001b[0m",
      "\u001b[0;31mValueError\u001b[0m                                Traceback (most recent call last)",
      "Cell \u001b[0;32mIn[14], line 1\u001b[0m\n\u001b[0;32m----> 1\u001b[0m df_unique\u001b[38;5;241m=\u001b[39m\u001b[43mlarry\u001b[49m\u001b[38;5;241;43m.\u001b[39;49m\u001b[43mQC_unique_cells\u001b[49m\u001b[43m(\u001b[49m\u001b[43mdf_filter_reads\u001b[49m\u001b[43m,\u001b[49m\u001b[43mtarget_keys\u001b[49m\u001b[38;5;241;43m=\u001b[39;49m\u001b[43m[\u001b[49m\u001b[38;5;124;43m'\u001b[39;49m\u001b[38;5;124;43mcell_id\u001b[39;49m\u001b[38;5;124;43m'\u001b[39;49m\u001b[43m,\u001b[49m\u001b[38;5;124;43m'\u001b[39;49m\u001b[38;5;124;43mclone_id\u001b[39;49m\u001b[38;5;124;43m'\u001b[39;49m\u001b[43m]\u001b[49m\u001b[43m)\u001b[49m\n",
      "File \u001b[0;32m/together_sdc/zhoujiaqi/CARLIN/code/MosaicLineage/mosaiclineage/larry.py:679\u001b[0m, in \u001b[0;36mQC_unique_cells\u001b[0;34m(df, target_keys, base, log_scale)\u001b[0m\n\u001b[1;32m    677\u001b[0m read_cutoff_list \u001b[38;5;241m=\u001b[39m []\n\u001b[1;32m    678\u001b[0m unique_count \u001b[38;5;241m=\u001b[39m []\n\u001b[0;32m--> 679\u001b[0m \u001b[38;5;28;01mfor\u001b[39;00m x \u001b[38;5;129;01min\u001b[39;00m \u001b[38;5;28mrange\u001b[39m(\u001b[38;5;28;43mint\u001b[39;49m\u001b[43m(\u001b[49m\u001b[43mupper_log2\u001b[49m\u001b[43m)\u001b[49m):\n\u001b[1;32m    680\u001b[0m     read_cutoff \u001b[38;5;241m=\u001b[39m base\u001b[38;5;241m*\u001b[39m\u001b[38;5;241m*\u001b[39mx\n\u001b[1;32m    681\u001b[0m     read_cutoff_list\u001b[38;5;241m.\u001b[39mappend(read_cutoff)\n",
      "\u001b[0;31mValueError\u001b[0m: cannot convert float NaN to integer"
     ]
    }
   ],
   "source": [
    "df_unique=larry.QC_unique_cells(df_filter_reads,target_keys=['cell_id','clone_id'])"
   ]
  },
  {
   "cell_type": "code",
   "execution_count": null,
   "id": "bfd33d49-77ee-4aab-835e-9549b70b5e86",
   "metadata": {
    "papermill": {
     "duration": 0.243546,
     "end_time": "2022-08-09T16:56:45.764044",
     "exception": false,
     "start_time": "2022-08-09T16:56:45.520498",
     "status": "completed"
    },
    "tags": []
   },
   "outputs": [],
   "source": [
    "larry.print_statistics(df_filter_reads)"
   ]
  },
  {
   "cell_type": "markdown",
   "id": "d4cb947d-e9a0-42b3-8a1d-463d972dcca3",
   "metadata": {
    "papermill": {
     "duration": 0.223337,
     "end_time": "2022-08-09T16:56:48.740319",
     "exception": false,
     "start_time": "2022-08-09T16:56:48.516982",
     "status": "completed"
    },
    "tags": []
   },
   "source": [
    "## Collapse clone_id and filter cells within the same clone_id length"
   ]
  },
  {
   "cell_type": "markdown",
   "id": "3e488f68-8258-472a-b050-359e6333666b",
   "metadata": {
    "papermill": {
     "duration": 0.22443,
     "end_time": "2022-08-09T16:56:48.264754",
     "exception": false,
     "start_time": "2022-08-09T16:56:48.040324",
     "status": "completed"
    },
    "tags": []
   },
   "source": [
    "We first perform barcode cleaning within a certian distance, then re-calculate the read number, and filter out low-read-count sequences. The read threshold is determined as the 10% of the max read count within each sequence length group, with a lower bound at coarse_grained_readcutoff_floor"
   ]
  },
  {
   "cell_type": "code",
   "execution_count": null,
   "id": "9d9be559-7424-411c-b88c-df26d7014d2a",
   "metadata": {
    "papermill": {
     "duration": 2.493344,
     "end_time": "2022-08-09T16:56:51.635462",
     "exception": false,
     "start_time": "2022-08-09T16:56:49.142118",
     "status": "completed"
    },
    "tags": []
   },
   "outputs": [],
   "source": [
    "df_filter_reads['bc_length']=df_filter_reads['clone_id'].apply(lambda x: len(x))\n",
    "read_cutoff=2 # initial read count filtering \n",
    "# coarse_grained_readcutoff_floor=5 # the lower bound of the later read count filtering, after denoising, and re-group reads. \n",
    "# distance_relative_threshold=0.05 # 5% error rate, will be multipled with the sequence length\n",
    "    \n",
    "# use a low-filtering threshold, and also avoid filtering out valid_cell ids from above\n",
    "def filter_low_read_cells(df,coarse_grained_readcutoff=None):\n",
    "    if coarse_grained_readcutoff is None:\n",
    "        coarse_grained_readcutoff=np.max([coarse_grained_readcutoff_floor,0.01*df['read'].max()])\n",
    "    return df[(df['read']>=coarse_grained_readcutoff) | df['cell_id'].isin(df_valid_cells['cell_id'].unique())]\n",
    "\n",
    "df_list=[]\n",
    "unique_seq_length=list(set(df_filter_reads['bc_length']))\n",
    "for target_length in sorted(unique_seq_length):\n",
    "    df_tmp=df_filter_reads[df_filter_reads['bc_length']==target_length]#.groupby(['cell_bc','clone_id']).agg({'read':'sum'})\n",
    "    df_HQ=larry.denoise_clonal_data(df_tmp,\n",
    "        target_key=\"clone_id\",\n",
    "        denoise_method=\"UMI_tools\",  # UMI_tools, 'Hamming'\n",
    "        distance_threshold=1, #np.max([1,int(target_length*distance_relative_threshold)]),      \n",
    "        read_cutoff=read_cutoff,\n",
    "        whiteList=None,\n",
    "        plot_report=False,\n",
    "        progress_bar=False)\n",
    "\n",
    "    df_HQ_group=larry.group_cells(df_HQ,group_keys=[\"library\",\"cell_id\",\"cell_bc\",\"clone_id\"])\n",
    "    df_out=df_HQ_group.groupby('clone_id',group_keys=True).apply(filter_low_read_cells).reset_index(drop=True)\n",
    "    df_out['bc_length']=target_length\n",
    "    df_list.append(df_out)\n",
    "df_denoise_bc_1=pd.concat(df_list)"
   ]
  },
  {
   "cell_type": "code",
   "execution_count": null,
   "id": "93c0669a-d26a-4186-8fa2-8ae8d8db0ca0",
   "metadata": {
    "papermill": {
     "duration": 0.646955,
     "end_time": "2022-08-09T16:56:52.431318",
     "exception": false,
     "start_time": "2022-08-09T16:56:51.784363",
     "status": "completed"
    },
    "tags": []
   },
   "outputs": [],
   "source": [
    "larry.QC_clonal_reports(df_denoise_bc_1)"
   ]
  },
  {
   "cell_type": "markdown",
   "id": "5ab781ae-347a-4d4e-b7b0-1188beda1145",
   "metadata": {
    "papermill": {
     "duration": 0.213604,
     "end_time": "2022-08-09T16:56:53.110627",
     "exception": false,
     "start_time": "2022-08-09T16:56:52.897023",
     "status": "completed"
    },
    "tags": []
   },
   "source": [
    "## Select dominant clone_id within each cell_id"
   ]
  },
  {
   "cell_type": "markdown",
   "id": "81aeb03e-dd1d-4933-8296-adb031c091bd",
   "metadata": {
    "papermill": {
     "duration": 0.169378,
     "end_time": "2022-08-09T16:56:53.614672",
     "exception": false,
     "start_time": "2022-08-09T16:56:53.445294",
     "status": "completed"
    },
    "tags": []
   },
   "source": [
    "The above operation leaves some cell barcodes to have multiple clone barcodes. We select the read-dominant clonal barcodes as the putative clone id for each cell barcode."
   ]
  },
  {
   "cell_type": "code",
   "execution_count": null,
   "id": "e8e53e48-259a-404b-8aa9-e80a57cd2f5b",
   "metadata": {
    "papermill": {
     "duration": 0.733346,
     "end_time": "2022-08-09T16:56:54.482941",
     "exception": false,
     "start_time": "2022-08-09T16:56:53.749595",
     "status": "completed"
    },
    "tags": []
   },
   "outputs": [],
   "source": [
    "# select dominant barcode sequence within each cell barcode, we use a very high read_ratio to avoid false positive\n",
    "#df_dominant_frac=car.calculate_read_fraction_for_dominant_sequences(df_denoise_bc_2,cell_bc_key='cell_bc',clone_key='clone_id')\n",
    "df_dominant=larry.obtain_read_dominant_sequences(df_denoise_bc_1,cell_bc_key='cell_bc',clone_key='clone_id')\n",
    "sns.scatterplot(data=df_dominant,x='max_read_ratio',y='read')\n",
    "plt.yscale('log')"
   ]
  },
  {
   "cell_type": "code",
   "execution_count": null,
   "id": "0061f6ad-23c6-4c6c-b94c-02423acfd268",
   "metadata": {},
   "outputs": [],
   "source": []
  },
  {
   "cell_type": "code",
   "execution_count": null,
   "id": "8e1a2629-91df-4f4c-a6df-fc44a90276ac",
   "metadata": {},
   "outputs": [],
   "source": []
  }
 ],
 "metadata": {
  "kernelspec": {
   "display_name": "Python 3 (ipykernel)",
   "language": "python",
   "name": "python3"
  },
  "language_info": {
   "codemirror_mode": {
    "name": "ipython",
    "version": 3
   },
   "file_extension": ".py",
   "mimetype": "text/x-python",
   "name": "python",
   "nbconvert_exporter": "python",
   "pygments_lexer": "ipython3",
   "version": "3.11.7"
  }
 },
 "nbformat": 4,
 "nbformat_minor": 5
}
