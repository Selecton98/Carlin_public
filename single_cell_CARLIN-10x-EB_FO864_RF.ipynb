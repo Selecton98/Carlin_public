{
 "cells": [
  {
   "cell_type": "code",
   "execution_count": 1,
   "id": "dcfd353b-e4fa-44a1-b7dd-398bfa46a9ce",
   "metadata": {
    "tags": [
     "parameters"
    ]
   },
   "outputs": [],
   "source": [
    "sample = \"EB_FO864_RF\"\n",
    "#template = \"cCARLIN\"\n",
    "data_path = \"/home/zhoujiaqi/data/zhoujiaqi/CARLIN/Processed/amplicon/fastq/\"\n",
    "output_dir = \"/home/zhoujiaqi/data/zhoujiaqi/CARLIN/code/output/\"\n",
    "ref_dir ='/home/zhoujiaqi/data/zhoujiaqi/CARLIN/Analysis/EB/FO864/SC/RF/Transcriptome/filtered_barcodes_umi_mt.txt'\n",
    "#CARLIN_read_cutoff=3 # used to compare with CARLIN pipeline\n",
    "cfg=\"sc10xV3\" # ['sc10xV3',  'scCamellia']\n",
    "coarse_grained_readcutoff_floor=5 # the lower bound of the later read count filtering, after denoising, and re-group reads. \n",
    "distance_relative_threshold=0.03 # 5% error rate, will be multipled with the sequence length\n",
    "read_ratio_threshold=0.6\n",
    "#seq_3prime_upper_N=15\n",
    "#seq_5prime_upper_N=None"
   ]
  },
  {
   "cell_type": "code",
   "execution_count": 2,
   "id": "82c76a21-d6c0-4437-a4e9-b26252012265",
   "metadata": {},
   "outputs": [
    {
     "name": "stderr",
     "output_type": "stream",
     "text": [
      "/home/zhoujiaqi/miniconda2/envs/darlin/lib/python3.11/site-packages/Bio/pairwise2.py:278: BiopythonDeprecationWarning: Bio.pairwise2 has been deprecated, and we intend to remove it in a future release of Biopython. As an alternative, please consider using Bio.Align.PairwiseAligner as a replacement, and contact the Biopython developers if you still need the Bio.pairwise2 module.\n",
      "  warnings.warn(\n"
     ]
    }
   ],
   "source": [
    "import pandas as pd\n",
    "import seaborn as sns\n",
    "import numpy as np\n",
    "import matplotlib.pyplot as plt\n",
    "import os\n",
    "import yaml\n",
    "from mosaiclineage import DARLIN as car\n",
    "from mosaiclineage import larry"
   ]
  },
  {
   "cell_type": "code",
   "execution_count": 3,
   "id": "39c9f095-9991-406c-ac35-23895ec855b6",
   "metadata": {},
   "outputs": [],
   "source": [
    "import importlib\n",
    "importlib.reload(car)\n",
    "importlib.reload(larry)\n",
    "#%config InlineBackend.figure_format = 'svg' #'retina'         # or 'svg'\n",
    "pd.set_option('display.max_columns', None)\n",
    "pd.set_option('display.max_rows',100)\n",
    "%matplotlib inline"
   ]
  },
  {
   "cell_type": "markdown",
   "id": "b35c1f4e-d259-49f1-ba4e-84494c8cd794",
   "metadata": {
    "papermill": {
     "duration": 0.092002,
     "end_time": "2022-08-03T14:47:41.130058",
     "exception": false,
     "start_time": "2022-08-03T14:47:41.038056",
     "status": "completed"
    },
    "tags": []
   },
   "source": [
    "# Single-cell CARLIN pipeline for 10x data"
   ]
  },
  {
   "cell_type": "code",
   "execution_count": 4,
   "id": "eaa0aa9b-134e-4e97-867a-a599b2cbcdc9",
   "metadata": {
    "papermill": {
     "duration": 6.550087,
     "end_time": "2022-08-03T14:47:47.965337",
     "exception": false,
     "start_time": "2022-08-03T14:47:41.415250",
     "status": "completed"
    },
    "tags": []
   },
   "outputs": [],
   "source": [
    "ref_name=cfg\n",
    "df_ref_BC=pd.read_csv(f'{ref_dir}',\n",
    "                      sep='\\t',header=None,names=['CB'])"
   ]
  },
  {
   "cell_type": "code",
   "execution_count": 5,
   "id": "d6dd01f3-0656-4c8a-81a9-f1be433486d1",
   "metadata": {},
   "outputs": [
    {
     "data": {
      "text/html": [
       "<div>\n",
       "<style scoped>\n",
       "    .dataframe tbody tr th:only-of-type {\n",
       "        vertical-align: middle;\n",
       "    }\n",
       "\n",
       "    .dataframe tbody tr th {\n",
       "        vertical-align: top;\n",
       "    }\n",
       "\n",
       "    .dataframe thead th {\n",
       "        text-align: right;\n",
       "    }\n",
       "</style>\n",
       "<table border=\"1\" class=\"dataframe\">\n",
       "  <thead>\n",
       "    <tr style=\"text-align: right;\">\n",
       "      <th></th>\n",
       "      <th>CB</th>\n",
       "    </tr>\n",
       "  </thead>\n",
       "  <tbody>\n",
       "    <tr>\n",
       "      <th>0</th>\n",
       "      <td>AAACCTGAGACGCAAC</td>\n",
       "    </tr>\n",
       "    <tr>\n",
       "      <th>1</th>\n",
       "      <td>AAACCTGAGAGGTTAT</td>\n",
       "    </tr>\n",
       "    <tr>\n",
       "      <th>2</th>\n",
       "      <td>AAACCTGAGGAGCGTT</td>\n",
       "    </tr>\n",
       "    <tr>\n",
       "      <th>3</th>\n",
       "      <td>AAACCTGGTCAATACC</td>\n",
       "    </tr>\n",
       "    <tr>\n",
       "      <th>4</th>\n",
       "      <td>AAACGGGAGCGTGTCC</td>\n",
       "    </tr>\n",
       "    <tr>\n",
       "      <th>...</th>\n",
       "      <td>...</td>\n",
       "    </tr>\n",
       "    <tr>\n",
       "      <th>5097</th>\n",
       "      <td>TTTGTCAGTTAAGTAG</td>\n",
       "    </tr>\n",
       "    <tr>\n",
       "      <th>5098</th>\n",
       "      <td>TTTGTCAGTTCCGGCA</td>\n",
       "    </tr>\n",
       "    <tr>\n",
       "      <th>5099</th>\n",
       "      <td>TTTGTCATCAAGGCTT</td>\n",
       "    </tr>\n",
       "    <tr>\n",
       "      <th>5100</th>\n",
       "      <td>TTTGTCATCATTATCC</td>\n",
       "    </tr>\n",
       "    <tr>\n",
       "      <th>5101</th>\n",
       "      <td>TTTGTCATCGTGGTCG</td>\n",
       "    </tr>\n",
       "  </tbody>\n",
       "</table>\n",
       "<p>5102 rows × 1 columns</p>\n",
       "</div>"
      ],
      "text/plain": [
       "                    CB\n",
       "0     AAACCTGAGACGCAAC\n",
       "1     AAACCTGAGAGGTTAT\n",
       "2     AAACCTGAGGAGCGTT\n",
       "3     AAACCTGGTCAATACC\n",
       "4     AAACGGGAGCGTGTCC\n",
       "...                ...\n",
       "5097  TTTGTCAGTTAAGTAG\n",
       "5098  TTTGTCAGTTCCGGCA\n",
       "5099  TTTGTCATCAAGGCTT\n",
       "5100  TTTGTCATCATTATCC\n",
       "5101  TTTGTCATCGTGGTCG\n",
       "\n",
       "[5102 rows x 1 columns]"
      ]
     },
     "execution_count": 5,
     "metadata": {},
     "output_type": "execute_result"
    }
   ],
   "source": [
    "df_ref_BC"
   ]
  },
  {
   "cell_type": "code",
   "execution_count": 6,
   "id": "bd018fd7-873b-49b4-ab04-105cc4feb7f7",
   "metadata": {
    "papermill": {
     "duration": 24.626381,
     "end_time": "2022-08-03T14:48:12.735915",
     "exception": false,
     "start_time": "2022-08-03T14:47:48.109534",
     "status": "completed"
    },
    "tags": []
   },
   "outputs": [
    {
     "name": "stdout",
     "output_type": "stream",
     "text": [
      "CPU times: user 23.8 s, sys: 391 ms, total: 24.2 s\n",
      "Wall time: 24.3 s\n"
     ]
    }
   ],
   "source": [
    "%%time\n",
    "## load sequences\n",
    "df_raw_reads=car.CARLIN_raw_reads(data_path+sample,sample,protocol=cfg)"
   ]
  },
  {
   "cell_type": "code",
   "execution_count": 7,
   "id": "589edcbb-11be-4feb-9fee-1fd70c050223",
   "metadata": {},
   "outputs": [
    {
     "data": {
      "text/html": [
       "<div>\n",
       "<style scoped>\n",
       "    .dataframe tbody tr th:only-of-type {\n",
       "        vertical-align: middle;\n",
       "    }\n",
       "\n",
       "    .dataframe tbody tr th {\n",
       "        vertical-align: top;\n",
       "    }\n",
       "\n",
       "    .dataframe thead th {\n",
       "        text-align: right;\n",
       "    }\n",
       "</style>\n",
       "<table border=\"1\" class=\"dataframe\">\n",
       "  <thead>\n",
       "    <tr style=\"text-align: right;\">\n",
       "      <th></th>\n",
       "      <th>cell_bc</th>\n",
       "      <th>cell_bc_quality_mean</th>\n",
       "      <th>cell_bc_quality_min</th>\n",
       "      <th>library</th>\n",
       "      <th>cell_id</th>\n",
       "      <th>umi</th>\n",
       "      <th>umi_quality_mean</th>\n",
       "      <th>umi_quality_min</th>\n",
       "      <th>umi_id</th>\n",
       "      <th>clone_id</th>\n",
       "      <th>clone_id_quality_mean</th>\n",
       "      <th>clone_id_quality_min</th>\n",
       "    </tr>\n",
       "  </thead>\n",
       "  <tbody>\n",
       "    <tr>\n",
       "      <th>0</th>\n",
       "      <td>TCTGATGAGGAGCGTT</td>\n",
       "      <td>33.0000</td>\n",
       "      <td>17</td>\n",
       "      <td>EB_FO864_RF</td>\n",
       "      <td>EB_FO864_RF_TCTGATGAGGAGCGTT</td>\n",
       "      <td>TTTCTTTCTGTT</td>\n",
       "      <td>37.916667</td>\n",
       "      <td>34</td>\n",
       "      <td>TCTGATGAGGAGCGTT_TTTCTTTCTGTT</td>\n",
       "      <td>TAGCTGTACAAGTAAGCGGCCGCCGGACTGCACGACAGTCGAATGG...</td>\n",
       "      <td>24.628571</td>\n",
       "      <td>12</td>\n",
       "    </tr>\n",
       "    <tr>\n",
       "      <th>1</th>\n",
       "      <td>CCGGGATGTTATCACG</td>\n",
       "      <td>33.5625</td>\n",
       "      <td>18</td>\n",
       "      <td>EB_FO864_RF</td>\n",
       "      <td>EB_FO864_RF_CCGGGATGTTATCACG</td>\n",
       "      <td>TCATTGTTAGTT</td>\n",
       "      <td>38.500000</td>\n",
       "      <td>38</td>\n",
       "      <td>CCGGGATGTTATCACG_TCATTGTTAGTT</td>\n",
       "      <td>TAGCTGTACAAGTAAGCGGCCGCCGGACTGCACGACAGTCGACGAT...</td>\n",
       "      <td>26.660000</td>\n",
       "      <td>12</td>\n",
       "    </tr>\n",
       "    <tr>\n",
       "      <th>2</th>\n",
       "      <td>TCATACAGTACTCAAC</td>\n",
       "      <td>34.6875</td>\n",
       "      <td>18</td>\n",
       "      <td>EB_FO864_RF</td>\n",
       "      <td>EB_FO864_RF_TCATACAGTACTCAAC</td>\n",
       "      <td>AAATACCCTTTT</td>\n",
       "      <td>38.500000</td>\n",
       "      <td>38</td>\n",
       "      <td>TCATACAGTACTCAAC_AAATACCCTTTT</td>\n",
       "      <td>TCGCTGTACAAGTAAGCGGCCGCCGGACTGCACGACAGTCGACGAT...</td>\n",
       "      <td>24.654286</td>\n",
       "      <td>12</td>\n",
       "    </tr>\n",
       "    <tr>\n",
       "      <th>3</th>\n",
       "      <td>CTGTGTGCACAACGTT</td>\n",
       "      <td>31.0625</td>\n",
       "      <td>17</td>\n",
       "      <td>EB_FO864_RF</td>\n",
       "      <td>EB_FO864_RF_CTGTGTGCACAACGTT</td>\n",
       "      <td>CACAACAGCGTT</td>\n",
       "      <td>38.000000</td>\n",
       "      <td>38</td>\n",
       "      <td>CTGTGTGCACAACGTT_CACAACAGCGTT</td>\n",
       "      <td>TCGCTGTACAAGTAAGCGGCCGCCGGACTGCACGACAGTCGACGAT...</td>\n",
       "      <td>23.045714</td>\n",
       "      <td>12</td>\n",
       "    </tr>\n",
       "    <tr>\n",
       "      <th>4</th>\n",
       "      <td>TGATTACAGGCTCAGA</td>\n",
       "      <td>33.3750</td>\n",
       "      <td>16</td>\n",
       "      <td>EB_FO864_RF</td>\n",
       "      <td>EB_FO864_RF_TGATTACAGGCTCAGA</td>\n",
       "      <td>ATTCACAATTTT</td>\n",
       "      <td>37.166667</td>\n",
       "      <td>33</td>\n",
       "      <td>TGATTACAGGCTCAGA_ATTCACAATTTT</td>\n",
       "      <td>TAGCTGTACAAGTAAGCGGCCGCCGGACTGCACGACAGTCGACGAT...</td>\n",
       "      <td>26.042857</td>\n",
       "      <td>12</td>\n",
       "    </tr>\n",
       "    <tr>\n",
       "      <th>...</th>\n",
       "      <td>...</td>\n",
       "      <td>...</td>\n",
       "      <td>...</td>\n",
       "      <td>...</td>\n",
       "      <td>...</td>\n",
       "      <td>...</td>\n",
       "      <td>...</td>\n",
       "      <td>...</td>\n",
       "      <td>...</td>\n",
       "      <td>...</td>\n",
       "      <td>...</td>\n",
       "      <td>...</td>\n",
       "    </tr>\n",
       "    <tr>\n",
       "      <th>211900</th>\n",
       "      <td>GATGCTACAATGAAAC</td>\n",
       "      <td>31.0625</td>\n",
       "      <td>18</td>\n",
       "      <td>EB_FO864_RF</td>\n",
       "      <td>EB_FO864_RF_GATGCTACAATGAAAC</td>\n",
       "      <td>TCGGCTGCTTTT</td>\n",
       "      <td>33.333333</td>\n",
       "      <td>20</td>\n",
       "      <td>GATGCTACAATGAAAC_TCGGCTGCTTTT</td>\n",
       "      <td>GAGCTGTACAAGTAAGCGGCCGCCGGACTGCACGACAGACTGCACG...</td>\n",
       "      <td>24.211429</td>\n",
       "      <td>12</td>\n",
       "    </tr>\n",
       "    <tr>\n",
       "      <th>211901</th>\n",
       "      <td>AACTCAGTCGAATGCT</td>\n",
       "      <td>32.3125</td>\n",
       "      <td>19</td>\n",
       "      <td>EB_FO864_RF</td>\n",
       "      <td>EB_FO864_RF_AACTCAGTCGAATGCT</td>\n",
       "      <td>TTCTTTTTGTTT</td>\n",
       "      <td>31.833333</td>\n",
       "      <td>19</td>\n",
       "      <td>AACTCAGTCGAATGCT_TTCTTTTTGTTT</td>\n",
       "      <td>GAGCTGTACAAGTAAGCGGCCGCCGGACTGCACGACAGTCGATTGG...</td>\n",
       "      <td>24.557143</td>\n",
       "      <td>12</td>\n",
       "    </tr>\n",
       "    <tr>\n",
       "      <th>211902</th>\n",
       "      <td>CGACCTTTCGGTCTAA</td>\n",
       "      <td>31.5000</td>\n",
       "      <td>16</td>\n",
       "      <td>EB_FO864_RF</td>\n",
       "      <td>EB_FO864_RF_CGACCTTTCGGTCTAA</td>\n",
       "      <td>AGCGGAATTGTT</td>\n",
       "      <td>26.750000</td>\n",
       "      <td>15</td>\n",
       "      <td>CGACCTTTCGGTCTAA_AGCGGAATTGTT</td>\n",
       "      <td>GAGCTGTACAAGTAAGCGGCCGCCGGACTGCACGACCGAGTCGAGT...</td>\n",
       "      <td>22.425714</td>\n",
       "      <td>12</td>\n",
       "    </tr>\n",
       "    <tr>\n",
       "      <th>211903</th>\n",
       "      <td>GTAACTGTCAGTCCCT</td>\n",
       "      <td>33.8750</td>\n",
       "      <td>19</td>\n",
       "      <td>EB_FO864_RF</td>\n",
       "      <td>EB_FO864_RF_GTAACTGTCAGTCCCT</td>\n",
       "      <td>CAACATCTCCTT</td>\n",
       "      <td>33.833333</td>\n",
       "      <td>19</td>\n",
       "      <td>GTAACTGTCAGTCCCT_CAACATCTCCTT</td>\n",
       "      <td>GAGCTGTACAAGTCAGCGGCCGCCGGACTGCACGACAGTCGCCGTT...</td>\n",
       "      <td>25.534286</td>\n",
       "      <td>12</td>\n",
       "    </tr>\n",
       "    <tr>\n",
       "      <th>211904</th>\n",
       "      <td>GTATCATCAAAGACAG</td>\n",
       "      <td>31.1875</td>\n",
       "      <td>16</td>\n",
       "      <td>EB_FO864_RF</td>\n",
       "      <td>EB_FO864_RF_GTATCATCAAAGACAG</td>\n",
       "      <td>ACGCGCCGCTTT</td>\n",
       "      <td>29.500000</td>\n",
       "      <td>15</td>\n",
       "      <td>GTATCATCAAAGACAG_ACGCGCCGCTTT</td>\n",
       "      <td>GAGCTGTACAAGTAAGCGGCCGCCGGACTGCACGACAGACTACACG...</td>\n",
       "      <td>22.197143</td>\n",
       "      <td>12</td>\n",
       "    </tr>\n",
       "  </tbody>\n",
       "</table>\n",
       "<p>211905 rows × 12 columns</p>\n",
       "</div>"
      ],
      "text/plain": [
       "                 cell_bc  cell_bc_quality_mean  cell_bc_quality_min  \\\n",
       "0       TCTGATGAGGAGCGTT               33.0000                   17   \n",
       "1       CCGGGATGTTATCACG               33.5625                   18   \n",
       "2       TCATACAGTACTCAAC               34.6875                   18   \n",
       "3       CTGTGTGCACAACGTT               31.0625                   17   \n",
       "4       TGATTACAGGCTCAGA               33.3750                   16   \n",
       "...                  ...                   ...                  ...   \n",
       "211900  GATGCTACAATGAAAC               31.0625                   18   \n",
       "211901  AACTCAGTCGAATGCT               32.3125                   19   \n",
       "211902  CGACCTTTCGGTCTAA               31.5000                   16   \n",
       "211903  GTAACTGTCAGTCCCT               33.8750                   19   \n",
       "211904  GTATCATCAAAGACAG               31.1875                   16   \n",
       "\n",
       "            library                       cell_id           umi  \\\n",
       "0       EB_FO864_RF  EB_FO864_RF_TCTGATGAGGAGCGTT  TTTCTTTCTGTT   \n",
       "1       EB_FO864_RF  EB_FO864_RF_CCGGGATGTTATCACG  TCATTGTTAGTT   \n",
       "2       EB_FO864_RF  EB_FO864_RF_TCATACAGTACTCAAC  AAATACCCTTTT   \n",
       "3       EB_FO864_RF  EB_FO864_RF_CTGTGTGCACAACGTT  CACAACAGCGTT   \n",
       "4       EB_FO864_RF  EB_FO864_RF_TGATTACAGGCTCAGA  ATTCACAATTTT   \n",
       "...             ...                           ...           ...   \n",
       "211900  EB_FO864_RF  EB_FO864_RF_GATGCTACAATGAAAC  TCGGCTGCTTTT   \n",
       "211901  EB_FO864_RF  EB_FO864_RF_AACTCAGTCGAATGCT  TTCTTTTTGTTT   \n",
       "211902  EB_FO864_RF  EB_FO864_RF_CGACCTTTCGGTCTAA  AGCGGAATTGTT   \n",
       "211903  EB_FO864_RF  EB_FO864_RF_GTAACTGTCAGTCCCT  CAACATCTCCTT   \n",
       "211904  EB_FO864_RF  EB_FO864_RF_GTATCATCAAAGACAG  ACGCGCCGCTTT   \n",
       "\n",
       "        umi_quality_mean  umi_quality_min                         umi_id  \\\n",
       "0              37.916667               34  TCTGATGAGGAGCGTT_TTTCTTTCTGTT   \n",
       "1              38.500000               38  CCGGGATGTTATCACG_TCATTGTTAGTT   \n",
       "2              38.500000               38  TCATACAGTACTCAAC_AAATACCCTTTT   \n",
       "3              38.000000               38  CTGTGTGCACAACGTT_CACAACAGCGTT   \n",
       "4              37.166667               33  TGATTACAGGCTCAGA_ATTCACAATTTT   \n",
       "...                  ...              ...                            ...   \n",
       "211900         33.333333               20  GATGCTACAATGAAAC_TCGGCTGCTTTT   \n",
       "211901         31.833333               19  AACTCAGTCGAATGCT_TTCTTTTTGTTT   \n",
       "211902         26.750000               15  CGACCTTTCGGTCTAA_AGCGGAATTGTT   \n",
       "211903         33.833333               19  GTAACTGTCAGTCCCT_CAACATCTCCTT   \n",
       "211904         29.500000               15  GTATCATCAAAGACAG_ACGCGCCGCTTT   \n",
       "\n",
       "                                                 clone_id  \\\n",
       "0       TAGCTGTACAAGTAAGCGGCCGCCGGACTGCACGACAGTCGAATGG...   \n",
       "1       TAGCTGTACAAGTAAGCGGCCGCCGGACTGCACGACAGTCGACGAT...   \n",
       "2       TCGCTGTACAAGTAAGCGGCCGCCGGACTGCACGACAGTCGACGAT...   \n",
       "3       TCGCTGTACAAGTAAGCGGCCGCCGGACTGCACGACAGTCGACGAT...   \n",
       "4       TAGCTGTACAAGTAAGCGGCCGCCGGACTGCACGACAGTCGACGAT...   \n",
       "...                                                   ...   \n",
       "211900  GAGCTGTACAAGTAAGCGGCCGCCGGACTGCACGACAGACTGCACG...   \n",
       "211901  GAGCTGTACAAGTAAGCGGCCGCCGGACTGCACGACAGTCGATTGG...   \n",
       "211902  GAGCTGTACAAGTAAGCGGCCGCCGGACTGCACGACCGAGTCGAGT...   \n",
       "211903  GAGCTGTACAAGTCAGCGGCCGCCGGACTGCACGACAGTCGCCGTT...   \n",
       "211904  GAGCTGTACAAGTAAGCGGCCGCCGGACTGCACGACAGACTACACG...   \n",
       "\n",
       "        clone_id_quality_mean  clone_id_quality_min  \n",
       "0                   24.628571                    12  \n",
       "1                   26.660000                    12  \n",
       "2                   24.654286                    12  \n",
       "3                   23.045714                    12  \n",
       "4                   26.042857                    12  \n",
       "...                       ...                   ...  \n",
       "211900              24.211429                    12  \n",
       "211901              24.557143                    12  \n",
       "211902              22.425714                    12  \n",
       "211903              25.534286                    12  \n",
       "211904              22.197143                    12  \n",
       "\n",
       "[211905 rows x 12 columns]"
      ]
     },
     "execution_count": 7,
     "metadata": {},
     "output_type": "execute_result"
    }
   ],
   "source": [
    "df_raw_reads"
   ]
  },
  {
   "cell_type": "code",
   "execution_count": 8,
   "id": "33802094-b7c8-40fb-8185-be8755e4765e",
   "metadata": {
    "papermill": {
     "duration": 0.278804,
     "end_time": "2022-08-03T14:48:13.110566",
     "exception": false,
     "start_time": "2022-08-03T14:48:12.831762",
     "status": "completed"
    },
    "tags": []
   },
   "outputs": [
    {
     "name": "stdout",
     "output_type": "stream",
     "text": [
      "N fraction: 0.0\n"
     ]
    }
   ],
   "source": [
    "df_N=df_raw_reads[df_raw_reads['cell_bc'].apply(lambda x: 'N' in x)]\n",
    "print('N fraction:',len(df_N)/len(df_raw_reads))"
   ]
  },
  {
   "cell_type": "code",
   "execution_count": 9,
   "id": "f7592ba4-c0d0-42de-a5af-66fa21bb4e83",
   "metadata": {
    "papermill": {
     "duration": 8.41057,
     "end_time": "2022-08-03T14:48:30.749333",
     "exception": false,
     "start_time": "2022-08-03T14:48:22.338763",
     "status": "completed"
    },
    "tags": []
   },
   "outputs": [
    {
     "name": "stdout",
     "output_type": "stream",
     "text": [
      "Fastq with valid barcodes: 172121\n",
      "CPU times: user 1.38 s, sys: 40.3 ms, total: 1.42 s\n",
      "Wall time: 1.42 s\n"
     ]
    }
   ],
   "source": [
    "%%time\n",
    "df_filter_reads=car.CARLIN_preprocessing(df_raw_reads,ref_cell_barcodes=df_ref_BC['CB'])"
   ]
  },
  {
   "cell_type": "code",
   "execution_count": 10,
   "id": "7889c947-c994-4518-98ff-8f4070f9260a",
   "metadata": {},
   "outputs": [
    {
     "data": {
      "text/html": [
       "<div>\n",
       "<style scoped>\n",
       "    .dataframe tbody tr th:only-of-type {\n",
       "        vertical-align: middle;\n",
       "    }\n",
       "\n",
       "    .dataframe tbody tr th {\n",
       "        vertical-align: top;\n",
       "    }\n",
       "\n",
       "    .dataframe thead th {\n",
       "        text-align: right;\n",
       "    }\n",
       "</style>\n",
       "<table border=\"1\" class=\"dataframe\">\n",
       "  <thead>\n",
       "    <tr style=\"text-align: right;\">\n",
       "      <th></th>\n",
       "      <th>cell_bc</th>\n",
       "      <th>library</th>\n",
       "      <th>cell_id</th>\n",
       "      <th>umi</th>\n",
       "      <th>umi_id</th>\n",
       "      <th>clone_id</th>\n",
       "      <th>read</th>\n",
       "    </tr>\n",
       "  </thead>\n",
       "  <tbody>\n",
       "    <tr>\n",
       "      <th>0</th>\n",
       "      <td>CCGGGATGTTATCACG</td>\n",
       "      <td>EB_FO864_RF</td>\n",
       "      <td>EB_FO864_RF_CCGGGATGTTATCACG</td>\n",
       "      <td>TCATTGTTAGTT</td>\n",
       "      <td>CCGGGATGTTATCACG_TCATTGTTAGTT</td>\n",
       "      <td>TAGCTGTACAAGTAAGCGGCCGCCGGACTGCACGACAGTCGACGAT...</td>\n",
       "      <td>1</td>\n",
       "    </tr>\n",
       "    <tr>\n",
       "      <th>1</th>\n",
       "      <td>CTGCCTATCATTGCCC</td>\n",
       "      <td>EB_FO864_RF</td>\n",
       "      <td>EB_FO864_RF_CTGCCTATCATTGCCC</td>\n",
       "      <td>GATTTTGCATTT</td>\n",
       "      <td>CTGCCTATCATTGCCC_GATTTTGCATTT</td>\n",
       "      <td>GAGCTGTACAAGTAAGCGGCCGCCGGACTGCACGACAGTCGACGAT...</td>\n",
       "      <td>1</td>\n",
       "    </tr>\n",
       "    <tr>\n",
       "      <th>2</th>\n",
       "      <td>TGGTTAGCACTAAGTC</td>\n",
       "      <td>EB_FO864_RF</td>\n",
       "      <td>EB_FO864_RF_TGGTTAGCACTAAGTC</td>\n",
       "      <td>ATTTATTGGATT</td>\n",
       "      <td>TGGTTAGCACTAAGTC_ATTTATTGGATT</td>\n",
       "      <td>GAGCTGTACAAGTAAGCGGCCGCCGGACTGCACGACAGTCGACGAT...</td>\n",
       "      <td>1</td>\n",
       "    </tr>\n",
       "    <tr>\n",
       "      <th>3</th>\n",
       "      <td>AGAGCGAGTCGGCTCA</td>\n",
       "      <td>EB_FO864_RF</td>\n",
       "      <td>EB_FO864_RF_AGAGCGAGTCGGCTCA</td>\n",
       "      <td>TAAGGTCAAATT</td>\n",
       "      <td>AGAGCGAGTCGGCTCA_TAAGGTCAAATT</td>\n",
       "      <td>GAGCTGTACAAGTAAGCGGCCGCCGGACTGCACGACAGTCGACGAT...</td>\n",
       "      <td>1</td>\n",
       "    </tr>\n",
       "    <tr>\n",
       "      <th>4</th>\n",
       "      <td>AGGCCACAGGCATGGT</td>\n",
       "      <td>EB_FO864_RF</td>\n",
       "      <td>EB_FO864_RF_AGGCCACAGGCATGGT</td>\n",
       "      <td>TCTTCTATAATT</td>\n",
       "      <td>AGGCCACAGGCATGGT_TCTTCTATAATT</td>\n",
       "      <td>GAGCTGTACAAGTAAGCGGCCGCCGGACTGCACGACAGTCGACGAT...</td>\n",
       "      <td>1</td>\n",
       "    </tr>\n",
       "    <tr>\n",
       "      <th>...</th>\n",
       "      <td>...</td>\n",
       "      <td>...</td>\n",
       "      <td>...</td>\n",
       "      <td>...</td>\n",
       "      <td>...</td>\n",
       "      <td>...</td>\n",
       "      <td>...</td>\n",
       "    </tr>\n",
       "    <tr>\n",
       "      <th>172116</th>\n",
       "      <td>ATTACTCGTCGGCATC</td>\n",
       "      <td>EB_FO864_RF</td>\n",
       "      <td>EB_FO864_RF_ATTACTCGTCGGCATC</td>\n",
       "      <td>AAATATGTTATT</td>\n",
       "      <td>ATTACTCGTCGGCATC_AAATATGTTATT</td>\n",
       "      <td>GAGCTGTACAAGTAAGCGGCCGCCGGACTGCACGACAGACTCCACG...</td>\n",
       "      <td>1</td>\n",
       "    </tr>\n",
       "    <tr>\n",
       "      <th>172117</th>\n",
       "      <td>GATGCTACAATGAAAC</td>\n",
       "      <td>EB_FO864_RF</td>\n",
       "      <td>EB_FO864_RF_GATGCTACAATGAAAC</td>\n",
       "      <td>TCGGCTGCTTTT</td>\n",
       "      <td>GATGCTACAATGAAAC_TCGGCTGCTTTT</td>\n",
       "      <td>GAGCTGTACAAGTAAGCGGCCGCCGGACTGCACGACAGACTGCACG...</td>\n",
       "      <td>1</td>\n",
       "    </tr>\n",
       "    <tr>\n",
       "      <th>172118</th>\n",
       "      <td>AACTCAGTCGAATGCT</td>\n",
       "      <td>EB_FO864_RF</td>\n",
       "      <td>EB_FO864_RF_AACTCAGTCGAATGCT</td>\n",
       "      <td>TTCTTTTTGTTT</td>\n",
       "      <td>AACTCAGTCGAATGCT_TTCTTTTTGTTT</td>\n",
       "      <td>GAGCTGTACAAGTAAGCGGCCGCCGGACTGCACGACAGTCGATTGG...</td>\n",
       "      <td>1</td>\n",
       "    </tr>\n",
       "    <tr>\n",
       "      <th>172119</th>\n",
       "      <td>CGACCTTTCGGTCTAA</td>\n",
       "      <td>EB_FO864_RF</td>\n",
       "      <td>EB_FO864_RF_CGACCTTTCGGTCTAA</td>\n",
       "      <td>AGCGGAATTGTT</td>\n",
       "      <td>CGACCTTTCGGTCTAA_AGCGGAATTGTT</td>\n",
       "      <td>GAGCTGTACAAGTAAGCGGCCGCCGGACTGCACGACCGAGTCGAGT...</td>\n",
       "      <td>1</td>\n",
       "    </tr>\n",
       "    <tr>\n",
       "      <th>172120</th>\n",
       "      <td>GTAACTGTCAGTCCCT</td>\n",
       "      <td>EB_FO864_RF</td>\n",
       "      <td>EB_FO864_RF_GTAACTGTCAGTCCCT</td>\n",
       "      <td>CAACATCTCCTT</td>\n",
       "      <td>GTAACTGTCAGTCCCT_CAACATCTCCTT</td>\n",
       "      <td>GAGCTGTACAAGTCAGCGGCCGCCGGACTGCACGACAGTCGCCGTT...</td>\n",
       "      <td>1</td>\n",
       "    </tr>\n",
       "  </tbody>\n",
       "</table>\n",
       "<p>171422 rows × 7 columns</p>\n",
       "</div>"
      ],
      "text/plain": [
       "                 cell_bc      library                       cell_id  \\\n",
       "0       CCGGGATGTTATCACG  EB_FO864_RF  EB_FO864_RF_CCGGGATGTTATCACG   \n",
       "1       CTGCCTATCATTGCCC  EB_FO864_RF  EB_FO864_RF_CTGCCTATCATTGCCC   \n",
       "2       TGGTTAGCACTAAGTC  EB_FO864_RF  EB_FO864_RF_TGGTTAGCACTAAGTC   \n",
       "3       AGAGCGAGTCGGCTCA  EB_FO864_RF  EB_FO864_RF_AGAGCGAGTCGGCTCA   \n",
       "4       AGGCCACAGGCATGGT  EB_FO864_RF  EB_FO864_RF_AGGCCACAGGCATGGT   \n",
       "...                  ...          ...                           ...   \n",
       "172116  ATTACTCGTCGGCATC  EB_FO864_RF  EB_FO864_RF_ATTACTCGTCGGCATC   \n",
       "172117  GATGCTACAATGAAAC  EB_FO864_RF  EB_FO864_RF_GATGCTACAATGAAAC   \n",
       "172118  AACTCAGTCGAATGCT  EB_FO864_RF  EB_FO864_RF_AACTCAGTCGAATGCT   \n",
       "172119  CGACCTTTCGGTCTAA  EB_FO864_RF  EB_FO864_RF_CGACCTTTCGGTCTAA   \n",
       "172120  GTAACTGTCAGTCCCT  EB_FO864_RF  EB_FO864_RF_GTAACTGTCAGTCCCT   \n",
       "\n",
       "                 umi                         umi_id  \\\n",
       "0       TCATTGTTAGTT  CCGGGATGTTATCACG_TCATTGTTAGTT   \n",
       "1       GATTTTGCATTT  CTGCCTATCATTGCCC_GATTTTGCATTT   \n",
       "2       ATTTATTGGATT  TGGTTAGCACTAAGTC_ATTTATTGGATT   \n",
       "3       TAAGGTCAAATT  AGAGCGAGTCGGCTCA_TAAGGTCAAATT   \n",
       "4       TCTTCTATAATT  AGGCCACAGGCATGGT_TCTTCTATAATT   \n",
       "...              ...                            ...   \n",
       "172116  AAATATGTTATT  ATTACTCGTCGGCATC_AAATATGTTATT   \n",
       "172117  TCGGCTGCTTTT  GATGCTACAATGAAAC_TCGGCTGCTTTT   \n",
       "172118  TTCTTTTTGTTT  AACTCAGTCGAATGCT_TTCTTTTTGTTT   \n",
       "172119  AGCGGAATTGTT  CGACCTTTCGGTCTAA_AGCGGAATTGTT   \n",
       "172120  CAACATCTCCTT  GTAACTGTCAGTCCCT_CAACATCTCCTT   \n",
       "\n",
       "                                                 clone_id  read  \n",
       "0       TAGCTGTACAAGTAAGCGGCCGCCGGACTGCACGACAGTCGACGAT...     1  \n",
       "1       GAGCTGTACAAGTAAGCGGCCGCCGGACTGCACGACAGTCGACGAT...     1  \n",
       "2       GAGCTGTACAAGTAAGCGGCCGCCGGACTGCACGACAGTCGACGAT...     1  \n",
       "3       GAGCTGTACAAGTAAGCGGCCGCCGGACTGCACGACAGTCGACGAT...     1  \n",
       "4       GAGCTGTACAAGTAAGCGGCCGCCGGACTGCACGACAGTCGACGAT...     1  \n",
       "...                                                   ...   ...  \n",
       "172116  GAGCTGTACAAGTAAGCGGCCGCCGGACTGCACGACAGACTCCACG...     1  \n",
       "172117  GAGCTGTACAAGTAAGCGGCCGCCGGACTGCACGACAGACTGCACG...     1  \n",
       "172118  GAGCTGTACAAGTAAGCGGCCGCCGGACTGCACGACAGTCGATTGG...     1  \n",
       "172119  GAGCTGTACAAGTAAGCGGCCGCCGGACTGCACGACCGAGTCGAGT...     1  \n",
       "172120  GAGCTGTACAAGTCAGCGGCCGCCGGACTGCACGACAGTCGCCGTT...     1  \n",
       "\n",
       "[171422 rows x 7 columns]"
      ]
     },
     "execution_count": 10,
     "metadata": {},
     "output_type": "execute_result"
    }
   ],
   "source": [
    "df_filter_reads"
   ]
  },
  {
   "cell_type": "markdown",
   "id": "4ad53387-4546-4beb-b154-c5a59dae5280",
   "metadata": {
    "papermill": {
     "duration": 0.304664,
     "end_time": "2022-08-09T16:56:36.298106",
     "exception": false,
     "start_time": "2022-08-09T16:56:35.993442",
     "status": "completed"
    },
    "tags": []
   },
   "source": [
    "## Check raw data qualities\n",
    "\n",
    "Check raw data to decide the read cutoff. If we see a linear slope between read number per cell and clone number per cell, this is a signature of sequencing-error induced clonal diversity"
   ]
  },
  {
   "cell_type": "code",
   "execution_count": 11,
   "id": "98d60b88-accb-47a2-8e62-c5c571d4e2c5",
   "metadata": {},
   "outputs": [
    {
     "name": "stdout",
     "output_type": "stream",
     "text": [
      "Identified 1475 putative cell_id\n"
     ]
    },
    {
     "data": {
      "image/png": "[encoded data removed]",
      "text/plain": [
       "<Figure size 600x525 with 1 Axes>"
      ]
     },
     "metadata": {},
     "output_type": "display_data"
    }
   ],
   "source": [
    "df_valid_cells=larry.extract_putative_valid_cell_id(df_filter_reads,signal_threshold=1.5,cell_key=\"cell_id\",)"
   ]
  },
  {
   "cell_type": "code",
   "execution_count": 12,
   "id": "9449a12e-b751-4ca4-b7ad-1bb922fa90db",
   "metadata": {},
   "outputs": [
    {
     "data": {
      "text/html": [
       "<div>\n",
       "<style scoped>\n",
       "    .dataframe tbody tr th:only-of-type {\n",
       "        vertical-align: middle;\n",
       "    }\n",
       "\n",
       "    .dataframe tbody tr th {\n",
       "        vertical-align: top;\n",
       "    }\n",
       "\n",
       "    .dataframe thead th {\n",
       "        text-align: right;\n",
       "    }\n",
       "</style>\n",
       "<table border=\"1\" class=\"dataframe\">\n",
       "  <thead>\n",
       "    <tr style=\"text-align: right;\">\n",
       "      <th></th>\n",
       "      <th>cell_id</th>\n",
       "      <th>cell_id_read_count</th>\n",
       "      <th>umi_count</th>\n",
       "      <th>valid</th>\n",
       "    </tr>\n",
       "  </thead>\n",
       "  <tbody>\n",
       "    <tr>\n",
       "      <th>0</th>\n",
       "      <td>EB_FO864_RF_AAACCTGAGGAGCGTT</td>\n",
       "      <td>26</td>\n",
       "      <td>1</td>\n",
       "      <td>True</td>\n",
       "    </tr>\n",
       "    <tr>\n",
       "      <th>1</th>\n",
       "      <td>EB_FO864_RF_AAACCTGGTCAATACC</td>\n",
       "      <td>79</td>\n",
       "      <td>6</td>\n",
       "      <td>True</td>\n",
       "    </tr>\n",
       "    <tr>\n",
       "      <th>2</th>\n",
       "      <td>EB_FO864_RF_AAACGGGAGTCTCGGC</td>\n",
       "      <td>113</td>\n",
       "      <td>2</td>\n",
       "      <td>True</td>\n",
       "    </tr>\n",
       "    <tr>\n",
       "      <th>3</th>\n",
       "      <td>EB_FO864_RF_AAACGGGGTGCCTGTG</td>\n",
       "      <td>136</td>\n",
       "      <td>3</td>\n",
       "      <td>True</td>\n",
       "    </tr>\n",
       "    <tr>\n",
       "      <th>4</th>\n",
       "      <td>EB_FO864_RF_AAAGATGCAGCTCGAC</td>\n",
       "      <td>35</td>\n",
       "      <td>3</td>\n",
       "      <td>True</td>\n",
       "    </tr>\n",
       "    <tr>\n",
       "      <th>...</th>\n",
       "      <td>...</td>\n",
       "      <td>...</td>\n",
       "      <td>...</td>\n",
       "      <td>...</td>\n",
       "    </tr>\n",
       "    <tr>\n",
       "      <th>1614</th>\n",
       "      <td>EB_FO864_RF_TTTGGTTGTTCAACCA</td>\n",
       "      <td>193</td>\n",
       "      <td>4</td>\n",
       "      <td>True</td>\n",
       "    </tr>\n",
       "    <tr>\n",
       "      <th>1615</th>\n",
       "      <td>EB_FO864_RF_TTTGTCAAGAGCCTAG</td>\n",
       "      <td>300</td>\n",
       "      <td>4</td>\n",
       "      <td>True</td>\n",
       "    </tr>\n",
       "    <tr>\n",
       "      <th>1616</th>\n",
       "      <td>EB_FO864_RF_TTTGTCACACATCCAA</td>\n",
       "      <td>133</td>\n",
       "      <td>4</td>\n",
       "      <td>True</td>\n",
       "    </tr>\n",
       "    <tr>\n",
       "      <th>1617</th>\n",
       "      <td>EB_FO864_RF_TTTGTCAGTCCATCCT</td>\n",
       "      <td>22</td>\n",
       "      <td>2</td>\n",
       "      <td>True</td>\n",
       "    </tr>\n",
       "    <tr>\n",
       "      <th>1618</th>\n",
       "      <td>EB_FO864_RF_TTTGTCAGTTAAGTAG</td>\n",
       "      <td>341</td>\n",
       "      <td>6</td>\n",
       "      <td>True</td>\n",
       "    </tr>\n",
       "  </tbody>\n",
       "</table>\n",
       "<p>1475 rows × 4 columns</p>\n",
       "</div>"
      ],
      "text/plain": [
       "                           cell_id  cell_id_read_count  umi_count  valid\n",
       "0     EB_FO864_RF_AAACCTGAGGAGCGTT                  26          1   True\n",
       "1     EB_FO864_RF_AAACCTGGTCAATACC                  79          6   True\n",
       "2     EB_FO864_RF_AAACGGGAGTCTCGGC                 113          2   True\n",
       "3     EB_FO864_RF_AAACGGGGTGCCTGTG                 136          3   True\n",
       "4     EB_FO864_RF_AAAGATGCAGCTCGAC                  35          3   True\n",
       "...                            ...                 ...        ...    ...\n",
       "1614  EB_FO864_RF_TTTGGTTGTTCAACCA                 193          4   True\n",
       "1615  EB_FO864_RF_TTTGTCAAGAGCCTAG                 300          4   True\n",
       "1616  EB_FO864_RF_TTTGTCACACATCCAA                 133          4   True\n",
       "1617  EB_FO864_RF_TTTGTCAGTCCATCCT                  22          2   True\n",
       "1618  EB_FO864_RF_TTTGTCAGTTAAGTAG                 341          6   True\n",
       "\n",
       "[1475 rows x 4 columns]"
      ]
     },
     "execution_count": 12,
     "metadata": {},
     "output_type": "execute_result"
    }
   ],
   "source": [
    "df_valid_cells"
   ]
  },
  {
   "cell_type": "code",
   "execution_count": 13,
   "id": "d35f03ed-b982-4200-a9ce-1f79cd09525a",
   "metadata": {},
   "outputs": [],
   "source": [
    "df = pd.DataFrame(df_valid_cells)\n",
    "df.to_csv(output_dir+sample+'.csv', index=False)"
   ]
  },
  {
   "cell_type": "markdown",
   "id": "009b7b7a-cc45-4bc9-8ec5-f24309b50098",
   "metadata": {
    "papermill": {
     "duration": 0.240897,
     "end_time": "2022-08-09T16:56:43.314539",
     "exception": false,
     "start_time": "2022-08-09T16:56:43.073642",
     "status": "completed"
    },
    "tags": []
   },
   "source": [
    "We are interested to see at what read cutoff the corresponding cell number or clone number conform to our expectation. "
   ]
  },
  {
   "cell_type": "code",
   "execution_count": 14,
   "id": "7e7f9810-1101-4053-89d4-cc1e7affce6f",
   "metadata": {
    "papermill": {
     "duration": 1.74691,
     "end_time": "2022-08-09T16:56:45.332372",
     "exception": false,
     "start_time": "2022-08-09T16:56:43.585462",
     "status": "completed"
    },
    "tags": []
   },
   "outputs": [
    {
     "data": {
      "image/png": "[encoded data removed]",
      "text/plain": [
       "<Figure size 600x525 with 1 Axes>"
      ]
     },
     "metadata": {},
     "output_type": "display_data"
    },
    {
     "data": {
      "image/png": "[encoded data removed]",
      "text/plain": [
       "<Figure size 600x525 with 1 Axes>"
      ]
     },
     "metadata": {},
     "output_type": "display_data"
    }
   ],
   "source": [
    "df_unique=larry.QC_unique_cells(df_filter_reads,target_keys=['cell_id','clone_id'])"
   ]
  },
  {
   "cell_type": "code",
   "execution_count": 15,
   "id": "bfd33d49-77ee-4aab-835e-9549b70b5e86",
   "metadata": {
    "papermill": {
     "duration": 0.243546,
     "end_time": "2022-08-09T16:56:45.764044",
     "exception": false,
     "start_time": "2022-08-09T16:56:45.520498",
     "status": "completed"
    },
    "tags": []
   },
   "outputs": [
    {
     "name": "stdout",
     "output_type": "stream",
     "text": [
      "library number: 1\n",
      "cell_id number: 1619\n",
      "clone_id number: 164910\n",
      "umi_id number: 4433\n",
      "total reads: 172K\n"
     ]
    }
   ],
   "source": [
    "larry.print_statistics(df_filter_reads)"
   ]
  },
  {
   "cell_type": "markdown",
   "id": "d4cb947d-e9a0-42b3-8a1d-463d972dcca3",
   "metadata": {
    "papermill": {
     "duration": 0.223337,
     "end_time": "2022-08-09T16:56:48.740319",
     "exception": false,
     "start_time": "2022-08-09T16:56:48.516982",
     "status": "completed"
    },
    "tags": []
   },
   "source": [
    "## Collapse clone_id and filter cells within the same clone_id length"
   ]
  },
  {
   "cell_type": "markdown",
   "id": "3e488f68-8258-472a-b050-359e6333666b",
   "metadata": {
    "papermill": {
     "duration": 0.22443,
     "end_time": "2022-08-09T16:56:48.264754",
     "exception": false,
     "start_time": "2022-08-09T16:56:48.040324",
     "status": "completed"
    },
    "tags": []
   },
   "source": [
    "We first perform barcode cleaning within a certian distance, then re-calculate the read number, and filter out low-read-count sequences. The read threshold is determined as the 10% of the max read count within each sequence length group, with a lower bound at coarse_grained_readcutoff_floor"
   ]
  },
  {
   "cell_type": "code",
   "execution_count": 16,
   "id": "9d9be559-7424-411c-b88c-df26d7014d2a",
   "metadata": {
    "papermill": {
     "duration": 2.493344,
     "end_time": "2022-08-09T16:56:51.635462",
     "exception": false,
     "start_time": "2022-08-09T16:56:49.142118",
     "status": "completed"
    },
    "tags": []
   },
   "outputs": [],
   "source": [
    "df_filter_reads['bc_length']=df_filter_reads['clone_id'].apply(lambda x: len(x))\n",
    "read_cutoff=2 # initial read count filtering \n",
    "# coarse_grained_readcutoff_floor=5 # the lower bound of the later read count filtering, after denoising, and re-group reads. \n",
    "# distance_relative_threshold=0.05 # 5% error rate, will be multipled with the sequence length\n",
    "    \n",
    "# use a low-filtering threshold, and also avoid filtering out valid_cell ids from above\n",
    "def filter_low_read_cells(df,coarse_grained_readcutoff=None):\n",
    "    if coarse_grained_readcutoff is None:\n",
    "        coarse_grained_readcutoff=np.max([coarse_grained_readcutoff_floor,0.01*df['read'].max()])\n",
    "    return df[(df['read']>=coarse_grained_readcutoff) | df['cell_id'].isin(df_valid_cells['cell_id'].unique())]\n",
    "\n",
    "df_list=[]\n",
    "unique_seq_length=list(set(df_filter_reads['bc_length']))\n",
    "for target_length in sorted(unique_seq_length):\n",
    "    df_tmp=df_filter_reads[df_filter_reads['bc_length']==target_length]#.groupby(['cell_bc','clone_id']).agg({'read':'sum'})\n",
    "    df_HQ=larry.denoise_clonal_data(df_tmp,\n",
    "        target_key=\"clone_id\",\n",
    "        denoise_method=\"UMI_tools\",  # UMI_tools, 'Hamming'\n",
    "        distance_threshold=1, #np.max([1,int(target_length*distance_relative_threshold)]),      \n",
    "        read_cutoff=read_cutoff,\n",
    "        whiteList=None,\n",
    "        plot_report=False,\n",
    "        progress_bar=False)\n",
    "\n",
    "    df_HQ_group=larry.group_cells(df_HQ,group_keys=[\"library\",\"cell_id\",\"cell_bc\",\"clone_id\"])\n",
    "    df_out=df_HQ_group.groupby('clone_id',group_keys=True).apply(filter_low_read_cells).reset_index(drop=True)\n",
    "    df_out['bc_length']=target_length\n",
    "    df_list.append(df_out)\n",
    "df_denoise_bc_1=pd.concat(df_list)"
   ]
  },
  {
   "cell_type": "code",
   "execution_count": 17,
   "id": "93c0669a-d26a-4186-8fa2-8ae8d8db0ca0",
   "metadata": {
    "papermill": {
     "duration": 0.646955,
     "end_time": "2022-08-09T16:56:52.431318",
     "exception": false,
     "start_time": "2022-08-09T16:56:51.784363",
     "status": "completed"
    },
    "tags": []
   },
   "outputs": [
    {
     "data": {
      "image/png": "[encoded data removed]",
      "text/plain": [
       "<Figure size 1500x600 with 2 Axes>"
      ]
     },
     "metadata": {},
     "output_type": "display_data"
    }
   ],
   "source": [
    "larry.QC_clonal_reports(df_denoise_bc_1)"
   ]
  },
  {
   "cell_type": "markdown",
   "id": "5ab781ae-347a-4d4e-b7b0-1188beda1145",
   "metadata": {
    "papermill": {
     "duration": 0.213604,
     "end_time": "2022-08-09T16:56:53.110627",
     "exception": false,
     "start_time": "2022-08-09T16:56:52.897023",
     "status": "completed"
    },
    "tags": []
   },
   "source": [
    "## Select dominant clone_id within each cell_id"
   ]
  },
  {
   "cell_type": "markdown",
   "id": "81aeb03e-dd1d-4933-8296-adb031c091bd",
   "metadata": {
    "papermill": {
     "duration": 0.169378,
     "end_time": "2022-08-09T16:56:53.614672",
     "exception": false,
     "start_time": "2022-08-09T16:56:53.445294",
     "status": "completed"
    },
    "tags": []
   },
   "source": [
    "The above operation leaves some cell barcodes to have multiple clone barcodes. We select the read-dominant clonal barcodes as the putative clone id for each cell barcode."
   ]
  },
  {
   "cell_type": "code",
   "execution_count": 18,
   "id": "e8e53e48-259a-404b-8aa9-e80a57cd2f5b",
   "metadata": {
    "papermill": {
     "duration": 0.733346,
     "end_time": "2022-08-09T16:56:54.482941",
     "exception": false,
     "start_time": "2022-08-09T16:56:53.749595",
     "status": "completed"
    },
    "tags": []
   },
   "outputs": [
    {
     "name": "stdout",
     "output_type": "stream",
     "text": [
      "seq length\n"
     ]
    },
    {
     "data": {
      "image/png": "[encoded data removed]",
      "text/plain": [
       "<Figure size 600x525 with 1 Axes>"
      ]
     },
     "metadata": {},
     "output_type": "display_data"
    }
   ],
   "source": [
    "# select dominant barcode sequence within each cell barcode, we use a very high read_ratio to avoid false positive\n",
    "#df_dominant_frac=car.calculate_read_fraction_for_dominant_sequences(df_denoise_bc_2,cell_bc_key='cell_bc',clone_key='clone_id')\n",
    "df_dominant=larry.obtain_read_dominant_sequences(df_denoise_bc_1,cell_bc_key='cell_bc',clone_key='clone_id')\n",
    "sns.scatterplot(data=df_dominant,x='max_read_ratio',y='read')\n",
    "plt.yscale('log')"
   ]
  },
  {
   "cell_type": "code",
   "execution_count": null,
   "id": "e12c541f-15f4-4e16-82f5-9a261dcffd10",
   "metadata": {},
   "outputs": [],
   "source": []
  }
 ],
 "metadata": {
  "kernelspec": {
   "display_name": "Python 3 (ipykernel)",
   "language": "python",
   "name": "python3"
  },
  "language_info": {
   "codemirror_mode": {
    "name": "ipython",
    "version": 3
   },
   "file_extension": ".py",
   "mimetype": "text/x-python",
   "name": "python",
   "nbconvert_exporter": "python",
   "pygments_lexer": "ipython3",
   "version": "3.11.7"
  }
 },
 "nbformat": 4,
 "nbformat_minor": 5
}
