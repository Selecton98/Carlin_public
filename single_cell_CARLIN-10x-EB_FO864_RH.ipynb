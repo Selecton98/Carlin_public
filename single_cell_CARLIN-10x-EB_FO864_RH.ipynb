{
 "cells": [
  {
   "cell_type": "code",
   "execution_count": 1,
   "id": "dcfd353b-e4fa-44a1-b7dd-398bfa46a9ce",
   "metadata": {
    "tags": [
     "parameters"
    ]
   },
   "outputs": [],
   "source": [
    "sample = \"EB_FO864_RH\"\n",
    "#template = \"cCARLIN\"\n",
    "data_path = \"/home/zhoujiaqi/data/zhoujiaqi/CARLIN/Processed/amplicon/fastq/\"\n",
    "output_dir = \"/home/zhoujiaqi/data/zhoujiaqi/CARLIN/code/output/\"\n",
    "ref_dir ='/home/zhoujiaqi/data/zhoujiaqi/CARLIN/Analysis/EB/FO864/SC/RH/Transcriptome/filtered_barcodes_umi_mt.txt'\n",
    "#CARLIN_read_cutoff=3 # used to compare with CARLIN pipeline\n",
    "cfg=\"sc10xV3\" # ['sc10xV3',  'scCamellia']\n",
    "coarse_grained_readcutoff_floor=5 # the lower bound of the later read count filtering, after denoising, and re-group reads. \n",
    "distance_relative_threshold=0.03 # 5% error rate, will be multipled with the sequence length\n",
    "read_ratio_threshold=0.6\n",
    "#seq_3prime_upper_N=15\n",
    "#seq_5prime_upper_N=None"
   ]
  },
  {
   "cell_type": "code",
   "execution_count": 2,
   "id": "82c76a21-d6c0-4437-a4e9-b26252012265",
   "metadata": {},
   "outputs": [
    {
     "name": "stderr",
     "output_type": "stream",
     "text": [
      "/home/zhoujiaqi/miniconda2/envs/darlin/lib/python3.11/site-packages/Bio/pairwise2.py:278: BiopythonDeprecationWarning: Bio.pairwise2 has been deprecated, and we intend to remove it in a future release of Biopython. As an alternative, please consider using Bio.Align.PairwiseAligner as a replacement, and contact the Biopython developers if you still need the Bio.pairwise2 module.\n",
      "  warnings.warn(\n"
     ]
    }
   ],
   "source": [
    "import pandas as pd\n",
    "import seaborn as sns\n",
    "import numpy as np\n",
    "import matplotlib.pyplot as plt\n",
    "import os\n",
    "import yaml\n",
    "from mosaiclineage import DARLIN as car\n",
    "from mosaiclineage import larry"
   ]
  },
  {
   "cell_type": "code",
   "execution_count": 3,
   "id": "39c9f095-9991-406c-ac35-23895ec855b6",
   "metadata": {},
   "outputs": [],
   "source": [
    "import importlib\n",
    "importlib.reload(car)\n",
    "importlib.reload(larry)\n",
    "#%config InlineBackend.figure_format = 'svg' #'retina'         # or 'svg'\n",
    "pd.set_option('display.max_columns', None)\n",
    "pd.set_option('display.max_rows',100)\n",
    "%matplotlib inline"
   ]
  },
  {
   "cell_type": "markdown",
   "id": "b35c1f4e-d259-49f1-ba4e-84494c8cd794",
   "metadata": {
    "papermill": {
     "duration": 0.092002,
     "end_time": "2022-08-03T14:47:41.130058",
     "exception": false,
     "start_time": "2022-08-03T14:47:41.038056",
     "status": "completed"
    },
    "tags": []
   },
   "source": [
    "# Single-cell CARLIN pipeline for 10x data"
   ]
  },
  {
   "cell_type": "code",
   "execution_count": 4,
   "id": "eaa0aa9b-134e-4e97-867a-a599b2cbcdc9",
   "metadata": {
    "papermill": {
     "duration": 6.550087,
     "end_time": "2022-08-03T14:47:47.965337",
     "exception": false,
     "start_time": "2022-08-03T14:47:41.415250",
     "status": "completed"
    },
    "tags": []
   },
   "outputs": [],
   "source": [
    "ref_name=cfg\n",
    "df_ref_BC=pd.read_csv(f'{ref_dir}',\n",
    "                      sep='\\t',header=None,names=['CB'])"
   ]
  },
  {
   "cell_type": "code",
   "execution_count": 5,
   "id": "d6dd01f3-0656-4c8a-81a9-f1be433486d1",
   "metadata": {},
   "outputs": [
    {
     "data": {
      "text/html": [
       "<div>\n",
       "<style scoped>\n",
       "    .dataframe tbody tr th:only-of-type {\n",
       "        vertical-align: middle;\n",
       "    }\n",
       "\n",
       "    .dataframe tbody tr th {\n",
       "        vertical-align: top;\n",
       "    }\n",
       "\n",
       "    .dataframe thead th {\n",
       "        text-align: right;\n",
       "    }\n",
       "</style>\n",
       "<table border=\"1\" class=\"dataframe\">\n",
       "  <thead>\n",
       "    <tr style=\"text-align: right;\">\n",
       "      <th></th>\n",
       "      <th>CB</th>\n",
       "    </tr>\n",
       "  </thead>\n",
       "  <tbody>\n",
       "    <tr>\n",
       "      <th>0</th>\n",
       "      <td>AAACCTGCAACGATCT</td>\n",
       "    </tr>\n",
       "    <tr>\n",
       "      <th>1</th>\n",
       "      <td>AAACCTGCAGACACTT</td>\n",
       "    </tr>\n",
       "    <tr>\n",
       "      <th>2</th>\n",
       "      <td>AAACCTGCATCGATGT</td>\n",
       "    </tr>\n",
       "    <tr>\n",
       "      <th>3</th>\n",
       "      <td>AAACCTGGTAGGGTAC</td>\n",
       "    </tr>\n",
       "    <tr>\n",
       "      <th>4</th>\n",
       "      <td>AAACCTGGTCAGAAGC</td>\n",
       "    </tr>\n",
       "    <tr>\n",
       "      <th>...</th>\n",
       "      <td>...</td>\n",
       "    </tr>\n",
       "    <tr>\n",
       "      <th>5256</th>\n",
       "      <td>TTTGTCAAGGTGCAAC</td>\n",
       "    </tr>\n",
       "    <tr>\n",
       "      <th>5257</th>\n",
       "      <td>TTTGTCACACCTGGTG</td>\n",
       "    </tr>\n",
       "    <tr>\n",
       "      <th>5258</th>\n",
       "      <td>TTTGTCACACTTCGAA</td>\n",
       "    </tr>\n",
       "    <tr>\n",
       "      <th>5259</th>\n",
       "      <td>TTTGTCATCCCAACGG</td>\n",
       "    </tr>\n",
       "    <tr>\n",
       "      <th>5260</th>\n",
       "      <td>TTTGTCATCGGTGTCG</td>\n",
       "    </tr>\n",
       "  </tbody>\n",
       "</table>\n",
       "<p>5261 rows × 1 columns</p>\n",
       "</div>"
      ],
      "text/plain": [
       "                    CB\n",
       "0     AAACCTGCAACGATCT\n",
       "1     AAACCTGCAGACACTT\n",
       "2     AAACCTGCATCGATGT\n",
       "3     AAACCTGGTAGGGTAC\n",
       "4     AAACCTGGTCAGAAGC\n",
       "...                ...\n",
       "5256  TTTGTCAAGGTGCAAC\n",
       "5257  TTTGTCACACCTGGTG\n",
       "5258  TTTGTCACACTTCGAA\n",
       "5259  TTTGTCATCCCAACGG\n",
       "5260  TTTGTCATCGGTGTCG\n",
       "\n",
       "[5261 rows x 1 columns]"
      ]
     },
     "execution_count": 5,
     "metadata": {},
     "output_type": "execute_result"
    }
   ],
   "source": [
    "df_ref_BC"
   ]
  },
  {
   "cell_type": "code",
   "execution_count": 6,
   "id": "bd018fd7-873b-49b4-ab04-105cc4feb7f7",
   "metadata": {
    "papermill": {
     "duration": 24.626381,
     "end_time": "2022-08-03T14:48:12.735915",
     "exception": false,
     "start_time": "2022-08-03T14:47:48.109534",
     "status": "completed"
    },
    "tags": []
   },
   "outputs": [
    {
     "name": "stdout",
     "output_type": "stream",
     "text": [
      "CPU times: user 21.4 s, sys: 366 ms, total: 21.8 s\n",
      "Wall time: 21.8 s\n"
     ]
    }
   ],
   "source": [
    "%%time\n",
    "## load sequences\n",
    "df_raw_reads=car.CARLIN_raw_reads(data_path+sample,sample,protocol=cfg)"
   ]
  },
  {
   "cell_type": "code",
   "execution_count": 7,
   "id": "589edcbb-11be-4feb-9fee-1fd70c050223",
   "metadata": {},
   "outputs": [
    {
     "data": {
      "text/html": [
       "<div>\n",
       "<style scoped>\n",
       "    .dataframe tbody tr th:only-of-type {\n",
       "        vertical-align: middle;\n",
       "    }\n",
       "\n",
       "    .dataframe tbody tr th {\n",
       "        vertical-align: top;\n",
       "    }\n",
       "\n",
       "    .dataframe thead th {\n",
       "        text-align: right;\n",
       "    }\n",
       "</style>\n",
       "<table border=\"1\" class=\"dataframe\">\n",
       "  <thead>\n",
       "    <tr style=\"text-align: right;\">\n",
       "      <th></th>\n",
       "      <th>cell_bc</th>\n",
       "      <th>cell_bc_quality_mean</th>\n",
       "      <th>cell_bc_quality_min</th>\n",
       "      <th>library</th>\n",
       "      <th>cell_id</th>\n",
       "      <th>umi</th>\n",
       "      <th>umi_quality_mean</th>\n",
       "      <th>umi_quality_min</th>\n",
       "      <th>umi_id</th>\n",
       "      <th>clone_id</th>\n",
       "      <th>clone_id_quality_mean</th>\n",
       "      <th>clone_id_quality_min</th>\n",
       "    </tr>\n",
       "  </thead>\n",
       "  <tbody>\n",
       "    <tr>\n",
       "      <th>0</th>\n",
       "      <td>TCAGCAAGTGTCTGAT</td>\n",
       "      <td>32.2500</td>\n",
       "      <td>18</td>\n",
       "      <td>EB_FO864_RH</td>\n",
       "      <td>EB_FO864_RH_TCAGCAAGTGTCTGAT</td>\n",
       "      <td>GGCTCCTGTATT</td>\n",
       "      <td>36.416667</td>\n",
       "      <td>32</td>\n",
       "      <td>TCAGCAAGTGTCTGAT_GGCTCCTGTATT</td>\n",
       "      <td>TAGCTGTACAAGTAAGCGGCCGCCGGACTGCACGACAGTCGACGAT...</td>\n",
       "      <td>24.348571</td>\n",
       "      <td>12</td>\n",
       "    </tr>\n",
       "    <tr>\n",
       "      <th>1</th>\n",
       "      <td>TACGGATGTTATCACG</td>\n",
       "      <td>35.0000</td>\n",
       "      <td>32</td>\n",
       "      <td>EB_FO864_RH</td>\n",
       "      <td>EB_FO864_RH_TACGGATGTTATCACG</td>\n",
       "      <td>CTAGTTCTCGTT</td>\n",
       "      <td>38.250000</td>\n",
       "      <td>38</td>\n",
       "      <td>TACGGATGTTATCACG_CTAGTTCTCGTT</td>\n",
       "      <td>CAGCTGTACAAGTAAGCGGCCGCCGGACTGCACGACAGTCGATGGG...</td>\n",
       "      <td>25.714286</td>\n",
       "      <td>12</td>\n",
       "    </tr>\n",
       "    <tr>\n",
       "      <th>2</th>\n",
       "      <td>CGCTGGACACGCTTTC</td>\n",
       "      <td>34.1250</td>\n",
       "      <td>18</td>\n",
       "      <td>EB_FO864_RH</td>\n",
       "      <td>EB_FO864_RH_CGCTGGACACGCTTTC</td>\n",
       "      <td>GTTAGTCTGTTT</td>\n",
       "      <td>38.500000</td>\n",
       "      <td>38</td>\n",
       "      <td>CGCTGGACACGCTTTC_GTTAGTCTGTTT</td>\n",
       "      <td>CAGCTGTACAAGTAAGCGGCCGCCGGACTGCACGACAGTCGATGGA...</td>\n",
       "      <td>25.988571</td>\n",
       "      <td>12</td>\n",
       "    </tr>\n",
       "    <tr>\n",
       "      <th>3</th>\n",
       "      <td>TATCCAGAGGTGTTAA</td>\n",
       "      <td>33.5000</td>\n",
       "      <td>18</td>\n",
       "      <td>EB_FO864_RH</td>\n",
       "      <td>EB_FO864_RH_TATCCAGAGGTGTTAA</td>\n",
       "      <td>TTAAGGACAGTT</td>\n",
       "      <td>38.416667</td>\n",
       "      <td>38</td>\n",
       "      <td>TATCCAGAGGTGTTAA_TTAAGGACAGTT</td>\n",
       "      <td>TAGCTGTACAAGTAAGCGGCCGCCGGACTGCACGACAGTCGACGAT...</td>\n",
       "      <td>24.971429</td>\n",
       "      <td>12</td>\n",
       "    </tr>\n",
       "    <tr>\n",
       "      <th>4</th>\n",
       "      <td>TATGCTAGTGTGACGA</td>\n",
       "      <td>34.1875</td>\n",
       "      <td>18</td>\n",
       "      <td>EB_FO864_RH</td>\n",
       "      <td>EB_FO864_RH_TATGCTAGTGTGACGA</td>\n",
       "      <td>CATTGTATTTTT</td>\n",
       "      <td>37.500000</td>\n",
       "      <td>30</td>\n",
       "      <td>TATGCTAGTGTGACGA_CATTGTATTTTT</td>\n",
       "      <td>CAGCTGTACAAGTAAGCGGCCGCCGGACTGCACGACAGTCGACGAT...</td>\n",
       "      <td>24.454286</td>\n",
       "      <td>12</td>\n",
       "    </tr>\n",
       "    <tr>\n",
       "      <th>...</th>\n",
       "      <td>...</td>\n",
       "      <td>...</td>\n",
       "      <td>...</td>\n",
       "      <td>...</td>\n",
       "      <td>...</td>\n",
       "      <td>...</td>\n",
       "      <td>...</td>\n",
       "      <td>...</td>\n",
       "      <td>...</td>\n",
       "      <td>...</td>\n",
       "      <td>...</td>\n",
       "      <td>...</td>\n",
       "    </tr>\n",
       "    <tr>\n",
       "      <th>198400</th>\n",
       "      <td>GCACATACAATTGCTG</td>\n",
       "      <td>34.1875</td>\n",
       "      <td>20</td>\n",
       "      <td>EB_FO864_RH</td>\n",
       "      <td>EB_FO864_RH_GCACATACAATTGCTG</td>\n",
       "      <td>TCTGCTCAGTTT</td>\n",
       "      <td>37.833333</td>\n",
       "      <td>34</td>\n",
       "      <td>GCACATACAATTGCTG_TCTGCTCAGTTT</td>\n",
       "      <td>GAGCTGTACAAGTAAGCGGCCGCCGGACTGCACGACAGTCGATGGG...</td>\n",
       "      <td>28.031429</td>\n",
       "      <td>12</td>\n",
       "    </tr>\n",
       "    <tr>\n",
       "      <th>198401</th>\n",
       "      <td>CTAAGACCAATGAATG</td>\n",
       "      <td>30.8750</td>\n",
       "      <td>16</td>\n",
       "      <td>EB_FO864_RH</td>\n",
       "      <td>EB_FO864_RH_CTAAGACCAATGAATG</td>\n",
       "      <td>ACAACATGGCTT</td>\n",
       "      <td>27.000000</td>\n",
       "      <td>15</td>\n",
       "      <td>CTAAGACCAATGAATG_ACAACATGGCTT</td>\n",
       "      <td>GAGCTGTACAAGTAAGCGGCCACCGGACTGCACGACAGTCGACGAT...</td>\n",
       "      <td>24.828571</td>\n",
       "      <td>12</td>\n",
       "    </tr>\n",
       "    <tr>\n",
       "      <th>198402</th>\n",
       "      <td>AGTGAGGTCGCGCCAA</td>\n",
       "      <td>31.5000</td>\n",
       "      <td>17</td>\n",
       "      <td>EB_FO864_RH</td>\n",
       "      <td>EB_FO864_RH_AGTGAGGTCGCGCCAA</td>\n",
       "      <td>CTGTATTTATTT</td>\n",
       "      <td>29.416667</td>\n",
       "      <td>19</td>\n",
       "      <td>AGTGAGGTCGCGCCAA_CTGTATTTATTT</td>\n",
       "      <td>GAGCTGTACAAGTAAGCGGCCGCCTACCTGATCGGAGCTAGACTTC...</td>\n",
       "      <td>21.082857</td>\n",
       "      <td>12</td>\n",
       "    </tr>\n",
       "    <tr>\n",
       "      <th>198403</th>\n",
       "      <td>ATCGAGTGTCCTAGCG</td>\n",
       "      <td>34.5000</td>\n",
       "      <td>32</td>\n",
       "      <td>EB_FO864_RH</td>\n",
       "      <td>EB_FO864_RH_ATCGAGTGTCCTAGCG</td>\n",
       "      <td>GCTTTATCACTT</td>\n",
       "      <td>23.750000</td>\n",
       "      <td>15</td>\n",
       "      <td>ATCGAGTGTCCTAGCG_GCTTTATCACTT</td>\n",
       "      <td>GAGCTGTACAAGTAAGCGGCCGCCGGACTGCACGACAGTCGACGCT...</td>\n",
       "      <td>23.674286</td>\n",
       "      <td>12</td>\n",
       "    </tr>\n",
       "    <tr>\n",
       "      <th>198404</th>\n",
       "      <td>CATCAGATCTTAGAGC</td>\n",
       "      <td>32.4375</td>\n",
       "      <td>16</td>\n",
       "      <td>EB_FO864_RH</td>\n",
       "      <td>EB_FO864_RH_CATCAGATCTTAGAGC</td>\n",
       "      <td>TGGACCCCCTTT</td>\n",
       "      <td>25.083333</td>\n",
       "      <td>15</td>\n",
       "      <td>CATCAGATCTTAGAGC_TGGACCCCCTTT</td>\n",
       "      <td>GAGCTGTACAAGTAAGCGGCCGCCGGACTGCACGACAGTCTCTCCA...</td>\n",
       "      <td>24.622857</td>\n",
       "      <td>12</td>\n",
       "    </tr>\n",
       "  </tbody>\n",
       "</table>\n",
       "<p>198405 rows × 12 columns</p>\n",
       "</div>"
      ],
      "text/plain": [
       "                 cell_bc  cell_bc_quality_mean  cell_bc_quality_min  \\\n",
       "0       TCAGCAAGTGTCTGAT               32.2500                   18   \n",
       "1       TACGGATGTTATCACG               35.0000                   32   \n",
       "2       CGCTGGACACGCTTTC               34.1250                   18   \n",
       "3       TATCCAGAGGTGTTAA               33.5000                   18   \n",
       "4       TATGCTAGTGTGACGA               34.1875                   18   \n",
       "...                  ...                   ...                  ...   \n",
       "198400  GCACATACAATTGCTG               34.1875                   20   \n",
       "198401  CTAAGACCAATGAATG               30.8750                   16   \n",
       "198402  AGTGAGGTCGCGCCAA               31.5000                   17   \n",
       "198403  ATCGAGTGTCCTAGCG               34.5000                   32   \n",
       "198404  CATCAGATCTTAGAGC               32.4375                   16   \n",
       "\n",
       "            library                       cell_id           umi  \\\n",
       "0       EB_FO864_RH  EB_FO864_RH_TCAGCAAGTGTCTGAT  GGCTCCTGTATT   \n",
       "1       EB_FO864_RH  EB_FO864_RH_TACGGATGTTATCACG  CTAGTTCTCGTT   \n",
       "2       EB_FO864_RH  EB_FO864_RH_CGCTGGACACGCTTTC  GTTAGTCTGTTT   \n",
       "3       EB_FO864_RH  EB_FO864_RH_TATCCAGAGGTGTTAA  TTAAGGACAGTT   \n",
       "4       EB_FO864_RH  EB_FO864_RH_TATGCTAGTGTGACGA  CATTGTATTTTT   \n",
       "...             ...                           ...           ...   \n",
       "198400  EB_FO864_RH  EB_FO864_RH_GCACATACAATTGCTG  TCTGCTCAGTTT   \n",
       "198401  EB_FO864_RH  EB_FO864_RH_CTAAGACCAATGAATG  ACAACATGGCTT   \n",
       "198402  EB_FO864_RH  EB_FO864_RH_AGTGAGGTCGCGCCAA  CTGTATTTATTT   \n",
       "198403  EB_FO864_RH  EB_FO864_RH_ATCGAGTGTCCTAGCG  GCTTTATCACTT   \n",
       "198404  EB_FO864_RH  EB_FO864_RH_CATCAGATCTTAGAGC  TGGACCCCCTTT   \n",
       "\n",
       "        umi_quality_mean  umi_quality_min                         umi_id  \\\n",
       "0              36.416667               32  TCAGCAAGTGTCTGAT_GGCTCCTGTATT   \n",
       "1              38.250000               38  TACGGATGTTATCACG_CTAGTTCTCGTT   \n",
       "2              38.500000               38  CGCTGGACACGCTTTC_GTTAGTCTGTTT   \n",
       "3              38.416667               38  TATCCAGAGGTGTTAA_TTAAGGACAGTT   \n",
       "4              37.500000               30  TATGCTAGTGTGACGA_CATTGTATTTTT   \n",
       "...                  ...              ...                            ...   \n",
       "198400         37.833333               34  GCACATACAATTGCTG_TCTGCTCAGTTT   \n",
       "198401         27.000000               15  CTAAGACCAATGAATG_ACAACATGGCTT   \n",
       "198402         29.416667               19  AGTGAGGTCGCGCCAA_CTGTATTTATTT   \n",
       "198403         23.750000               15  ATCGAGTGTCCTAGCG_GCTTTATCACTT   \n",
       "198404         25.083333               15  CATCAGATCTTAGAGC_TGGACCCCCTTT   \n",
       "\n",
       "                                                 clone_id  \\\n",
       "0       TAGCTGTACAAGTAAGCGGCCGCCGGACTGCACGACAGTCGACGAT...   \n",
       "1       CAGCTGTACAAGTAAGCGGCCGCCGGACTGCACGACAGTCGATGGG...   \n",
       "2       CAGCTGTACAAGTAAGCGGCCGCCGGACTGCACGACAGTCGATGGA...   \n",
       "3       TAGCTGTACAAGTAAGCGGCCGCCGGACTGCACGACAGTCGACGAT...   \n",
       "4       CAGCTGTACAAGTAAGCGGCCGCCGGACTGCACGACAGTCGACGAT...   \n",
       "...                                                   ...   \n",
       "198400  GAGCTGTACAAGTAAGCGGCCGCCGGACTGCACGACAGTCGATGGG...   \n",
       "198401  GAGCTGTACAAGTAAGCGGCCACCGGACTGCACGACAGTCGACGAT...   \n",
       "198402  GAGCTGTACAAGTAAGCGGCCGCCTACCTGATCGGAGCTAGACTTC...   \n",
       "198403  GAGCTGTACAAGTAAGCGGCCGCCGGACTGCACGACAGTCGACGCT...   \n",
       "198404  GAGCTGTACAAGTAAGCGGCCGCCGGACTGCACGACAGTCTCTCCA...   \n",
       "\n",
       "        clone_id_quality_mean  clone_id_quality_min  \n",
       "0                   24.348571                    12  \n",
       "1                   25.714286                    12  \n",
       "2                   25.988571                    12  \n",
       "3                   24.971429                    12  \n",
       "4                   24.454286                    12  \n",
       "...                       ...                   ...  \n",
       "198400              28.031429                    12  \n",
       "198401              24.828571                    12  \n",
       "198402              21.082857                    12  \n",
       "198403              23.674286                    12  \n",
       "198404              24.622857                    12  \n",
       "\n",
       "[198405 rows x 12 columns]"
      ]
     },
     "execution_count": 7,
     "metadata": {},
     "output_type": "execute_result"
    }
   ],
   "source": [
    "df_raw_reads"
   ]
  },
  {
   "cell_type": "code",
   "execution_count": 8,
   "id": "33802094-b7c8-40fb-8185-be8755e4765e",
   "metadata": {
    "papermill": {
     "duration": 0.278804,
     "end_time": "2022-08-03T14:48:13.110566",
     "exception": false,
     "start_time": "2022-08-03T14:48:12.831762",
     "status": "completed"
    },
    "tags": []
   },
   "outputs": [
    {
     "name": "stdout",
     "output_type": "stream",
     "text": [
      "N fraction: 0.0\n"
     ]
    }
   ],
   "source": [
    "df_N=df_raw_reads[df_raw_reads['cell_bc'].apply(lambda x: 'N' in x)]\n",
    "print('N fraction:',len(df_N)/len(df_raw_reads))"
   ]
  },
  {
   "cell_type": "code",
   "execution_count": 9,
   "id": "f7592ba4-c0d0-42de-a5af-66fa21bb4e83",
   "metadata": {
    "papermill": {
     "duration": 8.41057,
     "end_time": "2022-08-03T14:48:30.749333",
     "exception": false,
     "start_time": "2022-08-03T14:48:22.338763",
     "status": "completed"
    },
    "tags": []
   },
   "outputs": [
    {
     "name": "stdout",
     "output_type": "stream",
     "text": [
      "Fastq with valid barcodes: 173286\n",
      "CPU times: user 1.39 s, sys: 44.9 ms, total: 1.43 s\n",
      "Wall time: 1.43 s\n"
     ]
    }
   ],
   "source": [
    "%%time\n",
    "df_filter_reads=car.CARLIN_preprocessing(df_raw_reads,ref_cell_barcodes=df_ref_BC['CB'])"
   ]
  },
  {
   "cell_type": "code",
   "execution_count": 10,
   "id": "7889c947-c994-4518-98ff-8f4070f9260a",
   "metadata": {},
   "outputs": [
    {
     "data": {
      "text/html": [
       "<div>\n",
       "<style scoped>\n",
       "    .dataframe tbody tr th:only-of-type {\n",
       "        vertical-align: middle;\n",
       "    }\n",
       "\n",
       "    .dataframe tbody tr th {\n",
       "        vertical-align: top;\n",
       "    }\n",
       "\n",
       "    .dataframe thead th {\n",
       "        text-align: right;\n",
       "    }\n",
       "</style>\n",
       "<table border=\"1\" class=\"dataframe\">\n",
       "  <thead>\n",
       "    <tr style=\"text-align: right;\">\n",
       "      <th></th>\n",
       "      <th>cell_bc</th>\n",
       "      <th>library</th>\n",
       "      <th>cell_id</th>\n",
       "      <th>umi</th>\n",
       "      <th>umi_id</th>\n",
       "      <th>clone_id</th>\n",
       "      <th>read</th>\n",
       "    </tr>\n",
       "  </thead>\n",
       "  <tbody>\n",
       "    <tr>\n",
       "      <th>0</th>\n",
       "      <td>TCAGCAAGTGTCTGAT</td>\n",
       "      <td>EB_FO864_RH</td>\n",
       "      <td>EB_FO864_RH_TCAGCAAGTGTCTGAT</td>\n",
       "      <td>GGCTCCTGTATT</td>\n",
       "      <td>TCAGCAAGTGTCTGAT_GGCTCCTGTATT</td>\n",
       "      <td>TAGCTGTACAAGTAAGCGGCCGCCGGACTGCACGACAGTCGACGAT...</td>\n",
       "      <td>1</td>\n",
       "    </tr>\n",
       "    <tr>\n",
       "      <th>1</th>\n",
       "      <td>TACGGATGTTATCACG</td>\n",
       "      <td>EB_FO864_RH</td>\n",
       "      <td>EB_FO864_RH_TACGGATGTTATCACG</td>\n",
       "      <td>CTAGTTCTCGTT</td>\n",
       "      <td>TACGGATGTTATCACG_CTAGTTCTCGTT</td>\n",
       "      <td>CAGCTGTACAAGTAAGCGGCCGCCGGACTGCACGACAGTCGATGGG...</td>\n",
       "      <td>1</td>\n",
       "    </tr>\n",
       "    <tr>\n",
       "      <th>2</th>\n",
       "      <td>CGCTGGACACGCTTTC</td>\n",
       "      <td>EB_FO864_RH</td>\n",
       "      <td>EB_FO864_RH_CGCTGGACACGCTTTC</td>\n",
       "      <td>GTTAGTCTGTTT</td>\n",
       "      <td>CGCTGGACACGCTTTC_GTTAGTCTGTTT</td>\n",
       "      <td>CAGCTGTACAAGTAAGCGGCCGCCGGACTGCACGACAGTCGATGGA...</td>\n",
       "      <td>1</td>\n",
       "    </tr>\n",
       "    <tr>\n",
       "      <th>3</th>\n",
       "      <td>CTAAGACCAATGAATG</td>\n",
       "      <td>EB_FO864_RH</td>\n",
       "      <td>EB_FO864_RH_CTAAGACCAATGAATG</td>\n",
       "      <td>ACAACATGGCTT</td>\n",
       "      <td>CTAAGACCAATGAATG_ACAACATGGCTT</td>\n",
       "      <td>CAGCTGTACAAGTAAGCGGCCGCCGGACTGCACGACAGTCGACGAT...</td>\n",
       "      <td>1</td>\n",
       "    </tr>\n",
       "    <tr>\n",
       "      <th>4</th>\n",
       "      <td>GACGTGCCACAACTGT</td>\n",
       "      <td>EB_FO864_RH</td>\n",
       "      <td>EB_FO864_RH_GACGTGCCACAACTGT</td>\n",
       "      <td>TCTTTTCCCCTT</td>\n",
       "      <td>GACGTGCCACAACTGT_TCTTTTCCCCTT</td>\n",
       "      <td>GAGCTGTACAAGTAAGCGGCCGCCGGACTGCACGACAGTCGAACGA...</td>\n",
       "      <td>1</td>\n",
       "    </tr>\n",
       "    <tr>\n",
       "      <th>...</th>\n",
       "      <td>...</td>\n",
       "      <td>...</td>\n",
       "      <td>...</td>\n",
       "      <td>...</td>\n",
       "      <td>...</td>\n",
       "      <td>...</td>\n",
       "      <td>...</td>\n",
       "    </tr>\n",
       "    <tr>\n",
       "      <th>173281</th>\n",
       "      <td>GCACATACAATTGCTG</td>\n",
       "      <td>EB_FO864_RH</td>\n",
       "      <td>EB_FO864_RH_GCACATACAATTGCTG</td>\n",
       "      <td>TCTGCTCAGTTT</td>\n",
       "      <td>GCACATACAATTGCTG_TCTGCTCAGTTT</td>\n",
       "      <td>GAGCTGTACAAGTAAGCGGCCGCCGGACTGCACGACAGTCGATGGG...</td>\n",
       "      <td>1</td>\n",
       "    </tr>\n",
       "    <tr>\n",
       "      <th>173282</th>\n",
       "      <td>CTAAGACCAATGAATG</td>\n",
       "      <td>EB_FO864_RH</td>\n",
       "      <td>EB_FO864_RH_CTAAGACCAATGAATG</td>\n",
       "      <td>ACAACATGGCTT</td>\n",
       "      <td>CTAAGACCAATGAATG_ACAACATGGCTT</td>\n",
       "      <td>GAGCTGTACAAGTAAGCGGCCACCGGACTGCACGACAGTCGACGAT...</td>\n",
       "      <td>1</td>\n",
       "    </tr>\n",
       "    <tr>\n",
       "      <th>173283</th>\n",
       "      <td>AGTGAGGTCGCGCCAA</td>\n",
       "      <td>EB_FO864_RH</td>\n",
       "      <td>EB_FO864_RH_AGTGAGGTCGCGCCAA</td>\n",
       "      <td>CTGTATTTATTT</td>\n",
       "      <td>AGTGAGGTCGCGCCAA_CTGTATTTATTT</td>\n",
       "      <td>GAGCTGTACAAGTAAGCGGCCGCCTACCTGATCGGAGCTAGACTTC...</td>\n",
       "      <td>1</td>\n",
       "    </tr>\n",
       "    <tr>\n",
       "      <th>173284</th>\n",
       "      <td>ATCGAGTGTCCTAGCG</td>\n",
       "      <td>EB_FO864_RH</td>\n",
       "      <td>EB_FO864_RH_ATCGAGTGTCCTAGCG</td>\n",
       "      <td>GCTTTATCACTT</td>\n",
       "      <td>ATCGAGTGTCCTAGCG_GCTTTATCACTT</td>\n",
       "      <td>GAGCTGTACAAGTAAGCGGCCGCCGGACTGCACGACAGTCGACGCT...</td>\n",
       "      <td>1</td>\n",
       "    </tr>\n",
       "    <tr>\n",
       "      <th>173285</th>\n",
       "      <td>CATCAGATCTTAGAGC</td>\n",
       "      <td>EB_FO864_RH</td>\n",
       "      <td>EB_FO864_RH_CATCAGATCTTAGAGC</td>\n",
       "      <td>TGGACCCCCTTT</td>\n",
       "      <td>CATCAGATCTTAGAGC_TGGACCCCCTTT</td>\n",
       "      <td>GAGCTGTACAAGTAAGCGGCCGCCGGACTGCACGACAGTCTCTCCA...</td>\n",
       "      <td>1</td>\n",
       "    </tr>\n",
       "  </tbody>\n",
       "</table>\n",
       "<p>171439 rows × 7 columns</p>\n",
       "</div>"
      ],
      "text/plain": [
       "                 cell_bc      library                       cell_id  \\\n",
       "0       TCAGCAAGTGTCTGAT  EB_FO864_RH  EB_FO864_RH_TCAGCAAGTGTCTGAT   \n",
       "1       TACGGATGTTATCACG  EB_FO864_RH  EB_FO864_RH_TACGGATGTTATCACG   \n",
       "2       CGCTGGACACGCTTTC  EB_FO864_RH  EB_FO864_RH_CGCTGGACACGCTTTC   \n",
       "3       CTAAGACCAATGAATG  EB_FO864_RH  EB_FO864_RH_CTAAGACCAATGAATG   \n",
       "4       GACGTGCCACAACTGT  EB_FO864_RH  EB_FO864_RH_GACGTGCCACAACTGT   \n",
       "...                  ...          ...                           ...   \n",
       "173281  GCACATACAATTGCTG  EB_FO864_RH  EB_FO864_RH_GCACATACAATTGCTG   \n",
       "173282  CTAAGACCAATGAATG  EB_FO864_RH  EB_FO864_RH_CTAAGACCAATGAATG   \n",
       "173283  AGTGAGGTCGCGCCAA  EB_FO864_RH  EB_FO864_RH_AGTGAGGTCGCGCCAA   \n",
       "173284  ATCGAGTGTCCTAGCG  EB_FO864_RH  EB_FO864_RH_ATCGAGTGTCCTAGCG   \n",
       "173285  CATCAGATCTTAGAGC  EB_FO864_RH  EB_FO864_RH_CATCAGATCTTAGAGC   \n",
       "\n",
       "                 umi                         umi_id  \\\n",
       "0       GGCTCCTGTATT  TCAGCAAGTGTCTGAT_GGCTCCTGTATT   \n",
       "1       CTAGTTCTCGTT  TACGGATGTTATCACG_CTAGTTCTCGTT   \n",
       "2       GTTAGTCTGTTT  CGCTGGACACGCTTTC_GTTAGTCTGTTT   \n",
       "3       ACAACATGGCTT  CTAAGACCAATGAATG_ACAACATGGCTT   \n",
       "4       TCTTTTCCCCTT  GACGTGCCACAACTGT_TCTTTTCCCCTT   \n",
       "...              ...                            ...   \n",
       "173281  TCTGCTCAGTTT  GCACATACAATTGCTG_TCTGCTCAGTTT   \n",
       "173282  ACAACATGGCTT  CTAAGACCAATGAATG_ACAACATGGCTT   \n",
       "173283  CTGTATTTATTT  AGTGAGGTCGCGCCAA_CTGTATTTATTT   \n",
       "173284  GCTTTATCACTT  ATCGAGTGTCCTAGCG_GCTTTATCACTT   \n",
       "173285  TGGACCCCCTTT  CATCAGATCTTAGAGC_TGGACCCCCTTT   \n",
       "\n",
       "                                                 clone_id  read  \n",
       "0       TAGCTGTACAAGTAAGCGGCCGCCGGACTGCACGACAGTCGACGAT...     1  \n",
       "1       CAGCTGTACAAGTAAGCGGCCGCCGGACTGCACGACAGTCGATGGG...     1  \n",
       "2       CAGCTGTACAAGTAAGCGGCCGCCGGACTGCACGACAGTCGATGGA...     1  \n",
       "3       CAGCTGTACAAGTAAGCGGCCGCCGGACTGCACGACAGTCGACGAT...     1  \n",
       "4       GAGCTGTACAAGTAAGCGGCCGCCGGACTGCACGACAGTCGAACGA...     1  \n",
       "...                                                   ...   ...  \n",
       "173281  GAGCTGTACAAGTAAGCGGCCGCCGGACTGCACGACAGTCGATGGG...     1  \n",
       "173282  GAGCTGTACAAGTAAGCGGCCACCGGACTGCACGACAGTCGACGAT...     1  \n",
       "173283  GAGCTGTACAAGTAAGCGGCCGCCTACCTGATCGGAGCTAGACTTC...     1  \n",
       "173284  GAGCTGTACAAGTAAGCGGCCGCCGGACTGCACGACAGTCGACGCT...     1  \n",
       "173285  GAGCTGTACAAGTAAGCGGCCGCCGGACTGCACGACAGTCTCTCCA...     1  \n",
       "\n",
       "[171439 rows x 7 columns]"
      ]
     },
     "execution_count": 10,
     "metadata": {},
     "output_type": "execute_result"
    }
   ],
   "source": [
    "df_filter_reads"
   ]
  },
  {
   "cell_type": "markdown",
   "id": "4ad53387-4546-4beb-b154-c5a59dae5280",
   "metadata": {
    "papermill": {
     "duration": 0.304664,
     "end_time": "2022-08-09T16:56:36.298106",
     "exception": false,
     "start_time": "2022-08-09T16:56:35.993442",
     "status": "completed"
    },
    "tags": []
   },
   "source": [
    "## Check raw data qualities\n",
    "\n",
    "Check raw data to decide the read cutoff. If we see a linear slope between read number per cell and clone number per cell, this is a signature of sequencing-error induced clonal diversity"
   ]
  },
  {
   "cell_type": "code",
   "execution_count": 11,
   "id": "98d60b88-accb-47a2-8e62-c5c571d4e2c5",
   "metadata": {},
   "outputs": [
    {
     "name": "stdout",
     "output_type": "stream",
     "text": [
      "Identified 1319 putative cell_id\n"
     ]
    },
    {
     "data": {
      "image/png": "[encoded data removed]",
      "text/plain": [
       "<Figure size 600x525 with 1 Axes>"
      ]
     },
     "metadata": {},
     "output_type": "display_data"
    }
   ],
   "source": [
    "df_valid_cells=larry.extract_putative_valid_cell_id(df_filter_reads,signal_threshold=1.5,cell_key=\"cell_id\",)"
   ]
  },
  {
   "cell_type": "code",
   "execution_count": 12,
   "id": "9449a12e-b751-4ca4-b7ad-1bb922fa90db",
   "metadata": {},
   "outputs": [
    {
     "data": {
      "text/html": [
       "<div>\n",
       "<style scoped>\n",
       "    .dataframe tbody tr th:only-of-type {\n",
       "        vertical-align: middle;\n",
       "    }\n",
       "\n",
       "    .dataframe tbody tr th {\n",
       "        vertical-align: top;\n",
       "    }\n",
       "\n",
       "    .dataframe thead th {\n",
       "        text-align: right;\n",
       "    }\n",
       "</style>\n",
       "<table border=\"1\" class=\"dataframe\">\n",
       "  <thead>\n",
       "    <tr style=\"text-align: right;\">\n",
       "      <th></th>\n",
       "      <th>cell_id</th>\n",
       "      <th>cell_id_read_count</th>\n",
       "      <th>umi_count</th>\n",
       "      <th>valid</th>\n",
       "    </tr>\n",
       "  </thead>\n",
       "  <tbody>\n",
       "    <tr>\n",
       "      <th>0</th>\n",
       "      <td>EB_FO864_RH_AAACCTGCAACGATCT</td>\n",
       "      <td>12</td>\n",
       "      <td>1</td>\n",
       "      <td>True</td>\n",
       "    </tr>\n",
       "    <tr>\n",
       "      <th>1</th>\n",
       "      <td>EB_FO864_RH_AAACCTGCAGACACTT</td>\n",
       "      <td>321</td>\n",
       "      <td>10</td>\n",
       "      <td>True</td>\n",
       "    </tr>\n",
       "    <tr>\n",
       "      <th>2</th>\n",
       "      <td>EB_FO864_RH_AAACCTGTCCAATGGT</td>\n",
       "      <td>223</td>\n",
       "      <td>4</td>\n",
       "      <td>True</td>\n",
       "    </tr>\n",
       "    <tr>\n",
       "      <th>3</th>\n",
       "      <td>EB_FO864_RH_AAACCTGTCGGCGCTA</td>\n",
       "      <td>38</td>\n",
       "      <td>1</td>\n",
       "      <td>True</td>\n",
       "    </tr>\n",
       "    <tr>\n",
       "      <th>4</th>\n",
       "      <td>EB_FO864_RH_AAACGGGGTAGCTTGT</td>\n",
       "      <td>97</td>\n",
       "      <td>2</td>\n",
       "      <td>True</td>\n",
       "    </tr>\n",
       "    <tr>\n",
       "      <th>...</th>\n",
       "      <td>...</td>\n",
       "      <td>...</td>\n",
       "      <td>...</td>\n",
       "      <td>...</td>\n",
       "    </tr>\n",
       "    <tr>\n",
       "      <th>1430</th>\n",
       "      <td>EB_FO864_RH_TTTGCGCGTATAAACG</td>\n",
       "      <td>8</td>\n",
       "      <td>1</td>\n",
       "      <td>True</td>\n",
       "    </tr>\n",
       "    <tr>\n",
       "      <th>1432</th>\n",
       "      <td>EB_FO864_RH_TTTGCGCGTGATGTGG</td>\n",
       "      <td>146</td>\n",
       "      <td>4</td>\n",
       "      <td>True</td>\n",
       "    </tr>\n",
       "    <tr>\n",
       "      <th>1433</th>\n",
       "      <td>EB_FO864_RH_TTTGGTTAGAAGGTGA</td>\n",
       "      <td>15</td>\n",
       "      <td>1</td>\n",
       "      <td>True</td>\n",
       "    </tr>\n",
       "    <tr>\n",
       "      <th>1434</th>\n",
       "      <td>EB_FO864_RH_TTTGGTTCAAGTTGTC</td>\n",
       "      <td>31</td>\n",
       "      <td>1</td>\n",
       "      <td>True</td>\n",
       "    </tr>\n",
       "    <tr>\n",
       "      <th>1435</th>\n",
       "      <td>EB_FO864_RH_TTTGTCATCGGTGTCG</td>\n",
       "      <td>321</td>\n",
       "      <td>2</td>\n",
       "      <td>True</td>\n",
       "    </tr>\n",
       "  </tbody>\n",
       "</table>\n",
       "<p>1319 rows × 4 columns</p>\n",
       "</div>"
      ],
      "text/plain": [
       "                           cell_id  cell_id_read_count  umi_count  valid\n",
       "0     EB_FO864_RH_AAACCTGCAACGATCT                  12          1   True\n",
       "1     EB_FO864_RH_AAACCTGCAGACACTT                 321         10   True\n",
       "2     EB_FO864_RH_AAACCTGTCCAATGGT                 223          4   True\n",
       "3     EB_FO864_RH_AAACCTGTCGGCGCTA                  38          1   True\n",
       "4     EB_FO864_RH_AAACGGGGTAGCTTGT                  97          2   True\n",
       "...                            ...                 ...        ...    ...\n",
       "1430  EB_FO864_RH_TTTGCGCGTATAAACG                   8          1   True\n",
       "1432  EB_FO864_RH_TTTGCGCGTGATGTGG                 146          4   True\n",
       "1433  EB_FO864_RH_TTTGGTTAGAAGGTGA                  15          1   True\n",
       "1434  EB_FO864_RH_TTTGGTTCAAGTTGTC                  31          1   True\n",
       "1435  EB_FO864_RH_TTTGTCATCGGTGTCG                 321          2   True\n",
       "\n",
       "[1319 rows x 4 columns]"
      ]
     },
     "execution_count": 12,
     "metadata": {},
     "output_type": "execute_result"
    }
   ],
   "source": [
    "df_valid_cells"
   ]
  },
  {
   "cell_type": "code",
   "execution_count": 13,
   "id": "d35f03ed-b982-4200-a9ce-1f79cd09525a",
   "metadata": {},
   "outputs": [],
   "source": [
    "df = pd.DataFrame(df_valid_cells)\n",
    "df.to_csv(output_dir+sample+'.csv', index=False)"
   ]
  },
  {
   "cell_type": "markdown",
   "id": "009b7b7a-cc45-4bc9-8ec5-f24309b50098",
   "metadata": {
    "papermill": {
     "duration": 0.240897,
     "end_time": "2022-08-09T16:56:43.314539",
     "exception": false,
     "start_time": "2022-08-09T16:56:43.073642",
     "status": "completed"
    },
    "tags": []
   },
   "source": [
    "We are interested to see at what read cutoff the corresponding cell number or clone number conform to our expectation. "
   ]
  },
  {
   "cell_type": "code",
   "execution_count": 14,
   "id": "7e7f9810-1101-4053-89d4-cc1e7affce6f",
   "metadata": {
    "papermill": {
     "duration": 1.74691,
     "end_time": "2022-08-09T16:56:45.332372",
     "exception": false,
     "start_time": "2022-08-09T16:56:43.585462",
     "status": "completed"
    },
    "tags": []
   },
   "outputs": [
    {
     "data": {
      "image/png": "[encoded data removed]",
      "text/plain": [
       "<Figure size 600x525 with 1 Axes>"
      ]
     },
     "metadata": {},
     "output_type": "display_data"
    },
    {
     "data": {
      "image/png": "[encoded data removed]",
      "text/plain": [
       "<Figure size 600x525 with 1 Axes>"
      ]
     },
     "metadata": {},
     "output_type": "display_data"
    }
   ],
   "source": [
    "df_unique=larry.QC_unique_cells(df_filter_reads,target_keys=['cell_id','clone_id'])"
   ]
  },
  {
   "cell_type": "code",
   "execution_count": 15,
   "id": "bfd33d49-77ee-4aab-835e-9549b70b5e86",
   "metadata": {
    "papermill": {
     "duration": 0.243546,
     "end_time": "2022-08-09T16:56:45.764044",
     "exception": false,
     "start_time": "2022-08-09T16:56:45.520498",
     "status": "completed"
    },
    "tags": []
   },
   "outputs": [
    {
     "name": "stdout",
     "output_type": "stream",
     "text": [
      "library number: 1\n",
      "cell_id number: 1436\n",
      "clone_id number: 161527\n",
      "umi_id number: 4136\n",
      "total reads: 173K\n"
     ]
    }
   ],
   "source": [
    "larry.print_statistics(df_filter_reads)"
   ]
  },
  {
   "cell_type": "markdown",
   "id": "d4cb947d-e9a0-42b3-8a1d-463d972dcca3",
   "metadata": {
    "papermill": {
     "duration": 0.223337,
     "end_time": "2022-08-09T16:56:48.740319",
     "exception": false,
     "start_time": "2022-08-09T16:56:48.516982",
     "status": "completed"
    },
    "tags": []
   },
   "source": [
    "## Collapse clone_id and filter cells within the same clone_id length"
   ]
  },
  {
   "cell_type": "markdown",
   "id": "3e488f68-8258-472a-b050-359e6333666b",
   "metadata": {
    "papermill": {
     "duration": 0.22443,
     "end_time": "2022-08-09T16:56:48.264754",
     "exception": false,
     "start_time": "2022-08-09T16:56:48.040324",
     "status": "completed"
    },
    "tags": []
   },
   "source": [
    "We first perform barcode cleaning within a certian distance, then re-calculate the read number, and filter out low-read-count sequences. The read threshold is determined as the 10% of the max read count within each sequence length group, with a lower bound at coarse_grained_readcutoff_floor"
   ]
  },
  {
   "cell_type": "code",
   "execution_count": 16,
   "id": "9d9be559-7424-411c-b88c-df26d7014d2a",
   "metadata": {
    "papermill": {
     "duration": 2.493344,
     "end_time": "2022-08-09T16:56:51.635462",
     "exception": false,
     "start_time": "2022-08-09T16:56:49.142118",
     "status": "completed"
    },
    "tags": []
   },
   "outputs": [],
   "source": [
    "df_filter_reads['bc_length']=df_filter_reads['clone_id'].apply(lambda x: len(x))\n",
    "read_cutoff=2 # initial read count filtering \n",
    "# coarse_grained_readcutoff_floor=5 # the lower bound of the later read count filtering, after denoising, and re-group reads. \n",
    "# distance_relative_threshold=0.05 # 5% error rate, will be multipled with the sequence length\n",
    "    \n",
    "# use a low-filtering threshold, and also avoid filtering out valid_cell ids from above\n",
    "def filter_low_read_cells(df,coarse_grained_readcutoff=None):\n",
    "    if coarse_grained_readcutoff is None:\n",
    "        coarse_grained_readcutoff=np.max([coarse_grained_readcutoff_floor,0.01*df['read'].max()])\n",
    "    return df[(df['read']>=coarse_grained_readcutoff) | df['cell_id'].isin(df_valid_cells['cell_id'].unique())]\n",
    "\n",
    "df_list=[]\n",
    "unique_seq_length=list(set(df_filter_reads['bc_length']))\n",
    "for target_length in sorted(unique_seq_length):\n",
    "    df_tmp=df_filter_reads[df_filter_reads['bc_length']==target_length]#.groupby(['cell_bc','clone_id']).agg({'read':'sum'})\n",
    "    df_HQ=larry.denoise_clonal_data(df_tmp,\n",
    "        target_key=\"clone_id\",\n",
    "        denoise_method=\"UMI_tools\",  # UMI_tools, 'Hamming'\n",
    "        distance_threshold=1, #np.max([1,int(target_length*distance_relative_threshold)]),      \n",
    "        read_cutoff=read_cutoff,\n",
    "        whiteList=None,\n",
    "        plot_report=False,\n",
    "        progress_bar=False)\n",
    "\n",
    "    df_HQ_group=larry.group_cells(df_HQ,group_keys=[\"library\",\"cell_id\",\"cell_bc\",\"clone_id\"])\n",
    "    df_out=df_HQ_group.groupby('clone_id',group_keys=True).apply(filter_low_read_cells).reset_index(drop=True)\n",
    "    df_out['bc_length']=target_length\n",
    "    df_list.append(df_out)\n",
    "df_denoise_bc_1=pd.concat(df_list)"
   ]
  },
  {
   "cell_type": "code",
   "execution_count": 17,
   "id": "93c0669a-d26a-4186-8fa2-8ae8d8db0ca0",
   "metadata": {
    "papermill": {
     "duration": 0.646955,
     "end_time": "2022-08-09T16:56:52.431318",
     "exception": false,
     "start_time": "2022-08-09T16:56:51.784363",
     "status": "completed"
    },
    "tags": []
   },
   "outputs": [
    {
     "data": {
      "image/png": "[encoded data removed]",
      "text/plain": [
       "<Figure size 1500x600 with 2 Axes>"
      ]
     },
     "metadata": {},
     "output_type": "display_data"
    }
   ],
   "source": [
    "larry.QC_clonal_reports(df_denoise_bc_1)"
   ]
  },
  {
   "cell_type": "markdown",
   "id": "5ab781ae-347a-4d4e-b7b0-1188beda1145",
   "metadata": {
    "papermill": {
     "duration": 0.213604,
     "end_time": "2022-08-09T16:56:53.110627",
     "exception": false,
     "start_time": "2022-08-09T16:56:52.897023",
     "status": "completed"
    },
    "tags": []
   },
   "source": [
    "## Select dominant clone_id within each cell_id"
   ]
  },
  {
   "cell_type": "markdown",
   "id": "81aeb03e-dd1d-4933-8296-adb031c091bd",
   "metadata": {
    "papermill": {
     "duration": 0.169378,
     "end_time": "2022-08-09T16:56:53.614672",
     "exception": false,
     "start_time": "2022-08-09T16:56:53.445294",
     "status": "completed"
    },
    "tags": []
   },
   "source": [
    "The above operation leaves some cell barcodes to have multiple clone barcodes. We select the read-dominant clonal barcodes as the putative clone id for each cell barcode."
   ]
  },
  {
   "cell_type": "code",
   "execution_count": 18,
   "id": "e8e53e48-259a-404b-8aa9-e80a57cd2f5b",
   "metadata": {
    "papermill": {
     "duration": 0.733346,
     "end_time": "2022-08-09T16:56:54.482941",
     "exception": false,
     "start_time": "2022-08-09T16:56:53.749595",
     "status": "completed"
    },
    "tags": []
   },
   "outputs": [
    {
     "name": "stdout",
     "output_type": "stream",
     "text": [
      "seq length\n"
     ]
    },
    {
     "data": {
      "image/png": "[encoded data removed]",
      "text/plain": [
       "<Figure size 600x525 with 1 Axes>"
      ]
     },
     "metadata": {},
     "output_type": "display_data"
    }
   ],
   "source": [
    "# select dominant barcode sequence within each cell barcode, we use a very high read_ratio to avoid false positive\n",
    "#df_dominant_frac=car.calculate_read_fraction_for_dominant_sequences(df_denoise_bc_2,cell_bc_key='cell_bc',clone_key='clone_id')\n",
    "df_dominant=larry.obtain_read_dominant_sequences(df_denoise_bc_1,cell_bc_key='cell_bc',clone_key='clone_id')\n",
    "sns.scatterplot(data=df_dominant,x='max_read_ratio',y='read')\n",
    "plt.yscale('log')"
   ]
  },
  {
   "cell_type": "code",
   "execution_count": null,
   "id": "0061f6ad-23c6-4c6c-b94c-02423acfd268",
   "metadata": {},
   "outputs": [],
   "source": []
  },
  {
   "cell_type": "code",
   "execution_count": null,
   "id": "8e1a2629-91df-4f4c-a6df-fc44a90276ac",
   "metadata": {},
   "outputs": [],
   "source": []
  }
 ],
 "metadata": {
  "kernelspec": {
   "display_name": "Python 3 (ipykernel)",
   "language": "python",
   "name": "python3"
  },
  "language_info": {
   "codemirror_mode": {
    "name": "ipython",
    "version": 3
   },
   "file_extension": ".py",
   "mimetype": "text/x-python",
   "name": "python",
   "nbconvert_exporter": "python",
   "pygments_lexer": "ipython3",
   "version": "3.11.7"
  }
 },
 "nbformat": 4,
 "nbformat_minor": 5
}
